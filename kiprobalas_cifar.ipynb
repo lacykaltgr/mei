{
 "cells": [
  {
   "cell_type": "code",
   "source": [
    "#colab\n",
    "!git clone --single-branch --branch torch https://github.com/lacykaltgr/mei.git\n",
    "!cp mei/mei.py .\n",
    "!cp mei/utils.py ."
   ],
   "metadata": {
    "id": "5Ra59oL9uQJH",
    "outputId": "5d050253-402d-461c-b8dd-611d10b82084",
    "colab": {
     "base_uri": "https://localhost:8080/"
    }
   },
   "execution_count": 1,
   "outputs": [
    {
     "output_type": "stream",
     "name": "stdout",
     "text": [
      "Cloning into 'mei'...\n",
      "remote: Enumerating objects: 31, done.\u001B[K\n",
      "remote: Counting objects: 100% (31/31), done.\u001B[K\n",
      "remote: Compressing objects: 100% (25/25), done.\u001B[K\n",
      "remote: Total 31 (delta 7), reused 19 (delta 4), pack-reused 0\u001B[K\n",
      "Unpacking objects: 100% (31/31), 46.42 KiB | 1.13 MiB/s, done.\n"
     ]
    }
   ]
  },
  {
   "cell_type": "code",
   "execution_count": 2,
   "outputs": [],
   "source": [
    "import torch\n",
    "import torch.nn as nn\n",
    "import torch.optim as optim\n",
    "from torch.utils.data import DataLoader\n",
    "import torchvision.transforms as transforms\n",
    "from torchvision.datasets import CIFAR10\n",
    "import torch.nn.functional as F\n",
    "\n",
    "device = torch.device(\"cuda\" if torch.cuda.is_available() else \"cpu\")"
   ],
   "metadata": {
    "id": "LXqNlKICuPtZ"
   }
  },
  {
   "cell_type": "code",
   "execution_count": 3,
   "outputs": [],
   "source": [
    "class Classifier(nn.Module):\n",
    "    def __init__(self, KERNEL_SIZE=(3, 3), INPUT_SHAPE=(3, 32, 32)):\n",
    "        super(Classifier, self).__init__()\n",
    "\n",
    "        self.conv1 = nn.Conv2d(3, 32, KERNEL_SIZE, padding=1)\n",
    "        self.bn1 = nn.BatchNorm2d(32)\n",
    "        self.conv2 = nn.Conv2d(32, 32, KERNEL_SIZE, padding=1)\n",
    "        self.bn2 = nn.BatchNorm2d(32)\n",
    "        self.maxpool1 = nn.MaxPool2d(2)\n",
    "        self.dropout1 = nn.Dropout2d(0.25)\n",
    "\n",
    "        self.conv3 = nn.Conv2d(32, 64, KERNEL_SIZE, padding=1)\n",
    "        self.bn3 = nn.BatchNorm2d(64)\n",
    "        self.conv4 = nn.Conv2d(64, 64, KERNEL_SIZE, padding=1)\n",
    "        self.bn4 = nn.BatchNorm2d(64)\n",
    "        self.maxpool2 = nn.MaxPool2d(2)\n",
    "        self.dropout2 = nn.Dropout2d(0.25)\n",
    "\n",
    "        self.conv5 = nn.Conv2d(64, 128, KERNEL_SIZE, padding=1)\n",
    "        self.bn5 = nn.BatchNorm2d(128)\n",
    "        self.conv6 = nn.Conv2d(128, 128, KERNEL_SIZE, padding=1)\n",
    "        self.bn6 = nn.BatchNorm2d(128)\n",
    "        self.maxpool3 = nn.MaxPool2d(2)\n",
    "\n",
    "        self.groupnorm = nn.GroupNorm(32, 128)\n",
    "        self.activation = nn.SiLU()\n",
    "        self.zeropad1 = nn.ZeroPad2d((1, 1, 1, 1))\n",
    "        self.conv7 = nn.Conv2d(128, 16, 3, stride=1)\n",
    "        self.zeropad2 = nn.ZeroPad2d((1, 1, 1, 1))\n",
    "        self.conv8 = nn.Conv2d(16, 8, 1, stride=1)\n",
    "\n",
    "        self.flatten = nn.Flatten()\n",
    "        self.dropout3 = nn.Dropout(0.2)\n",
    "        self.fc1 = nn.Linear(8 * 6 * 6, 128)\n",
    "        self.dropout4 = nn.Dropout(0.25)\n",
    "        self.fc2 = nn.Linear(128, 10)\n",
    "\n",
    "    def forward(self, x):\n",
    "        x = self.conv1(x)\n",
    "        x = self.bn1(x)\n",
    "        x = F.relu(x)\n",
    "        x = self.conv2(x)\n",
    "        x = self.bn2(x)\n",
    "        x = F.relu(x)\n",
    "        x = self.maxpool1(x)\n",
    "        x = self.dropout1(x)\n",
    "\n",
    "        x = self.conv3(x)\n",
    "        x = self.bn3(x)\n",
    "        x = F.relu(x)\n",
    "        x = self.conv4(x)\n",
    "        x = self.bn4(x)\n",
    "        x = F.relu(x)\n",
    "        x = self.maxpool2(x)\n",
    "        x = self.dropout2(x)\n",
    "\n",
    "        x = self.conv5(x)\n",
    "        x = self.bn5(x)\n",
    "        x = F.relu(x)\n",
    "        x = self.conv6(x)\n",
    "        x = self.bn6(x)\n",
    "        x = F.relu(x)\n",
    "        x = self.maxpool3(x)\n",
    "\n",
    "        x = self.groupnorm(x)\n",
    "        x = self.activation(x)\n",
    "        x = self.zeropad1(x)\n",
    "        x = self.conv7(x)\n",
    "        x = self.zeropad2(x)\n",
    "        x = self.conv8(x)\n",
    "\n",
    "        x = self.flatten(x)\n",
    "        x = self.dropout3(x)\n",
    "        x = self.fc1(x)\n",
    "        x = F.relu(x)\n",
    "        x = self.dropout4(x)\n",
    "        x = self.fc2(x)\n",
    "\n",
    "        return F.softmax(x, dim=1)"
   ],
   "metadata": {
    "id": "c7d62VptuPtb"
   }
  },
  {
   "cell_type": "markdown",
   "source": [],
   "metadata": {
    "collapsed": false,
    "id": "fkqB-p_zuPtb"
   }
  },
  {
   "cell_type": "code",
   "execution_count": 4,
   "outputs": [
    {
     "output_type": "stream",
     "name": "stdout",
     "text": [
      "Downloading https://www.cs.toronto.edu/~kriz/cifar-10-python.tar.gz to ./data/cifar-10-python.tar.gz\n"
     ]
    },
    {
     "output_type": "stream",
     "name": "stderr",
     "text": [
      "100%|██████████| 170498071/170498071 [00:05<00:00, 29905953.97it/s]\n"
     ]
    },
    {
     "output_type": "stream",
     "name": "stdout",
     "text": [
      "Extracting ./data/cifar-10-python.tar.gz to ./data\n",
      "Files already downloaded and verified\n"
     ]
    }
   ],
   "source": [
    "\n",
    "\n",
    "\n",
    "# Load CIFAR-10 trainset\n",
    "trainset = CIFAR10(root='./data', train=True, download=True, transform=transforms.ToTensor())\n",
    "\n",
    "# Load CIFAR-10 testset\n",
    "testset = CIFAR10(root='./data', train=False, download=True, transform=transforms.ToTensor())\n",
    "\n",
    "# Set batch size\n",
    "batch_size = 128\n",
    "\n",
    "# Create train and test dataloaders\n",
    "trainloader = DataLoader(trainset, batch_size=batch_size, shuffle=True)\n",
    "testloader = DataLoader(testset, batch_size=batch_size, shuffle=False)"
   ],
   "metadata": {
    "id": "MT4DwEfBuPtc",
    "outputId": "bbd820d5-c4d0-4986-df7f-7d276f8c3ddc",
    "colab": {
     "base_uri": "https://localhost:8080/"
    }
   }
  },
  {
   "cell_type": "code",
   "execution_count": 70,
   "outputs": [],
   "source": [
    "model = Classifier().to(device)"
   ],
   "metadata": {
    "id": "9Zp5I37yuPtd"
   }
  },
  {
   "cell_type": "code",
   "execution_count": 71,
   "outputs": [],
   "source": [
    "criterion = nn.CrossEntropyLoss()\n",
    "optimizer = optim.Adam(model.parameters(), lr=0.001)"
   ],
   "metadata": {
    "id": "lbiKCaKLuPtd"
   }
  },
  {
   "cell_type": "code",
   "execution_count": 73,
   "outputs": [
    {
     "output_type": "stream",
     "name": "stdout",
     "text": [
      "Epoch [1/10], Step [100/391], Loss: 2.1869\n",
      "Epoch [1/10], Step [200/391], Loss: 2.1094\n",
      "Epoch [1/10], Step [300/391], Loss: 2.0868\n",
      "Epoch [2/10], Step [100/391], Loss: 2.0462\n",
      "Epoch [2/10], Step [200/391], Loss: 2.0350\n",
      "Epoch [2/10], Step [300/391], Loss: 2.0306\n",
      "Epoch [3/10], Step [100/391], Loss: 1.9989\n",
      "Epoch [3/10], Step [200/391], Loss: 1.9927\n",
      "Epoch [3/10], Step [300/391], Loss: 1.9779\n",
      "Epoch [4/10], Step [100/391], Loss: 1.9604\n",
      "Epoch [4/10], Step [200/391], Loss: 1.9547\n",
      "Epoch [4/10], Step [300/391], Loss: 1.9455\n",
      "Epoch [5/10], Step [100/391], Loss: 1.9223\n",
      "Epoch [5/10], Step [200/391], Loss: 1.9361\n",
      "Epoch [5/10], Step [300/391], Loss: 1.9269\n",
      "Epoch [6/10], Step [100/391], Loss: 1.9018\n",
      "Epoch [6/10], Step [200/391], Loss: 1.8926\n",
      "Epoch [6/10], Step [300/391], Loss: 1.8929\n",
      "Epoch [7/10], Step [100/391], Loss: 1.8840\n",
      "Epoch [7/10], Step [200/391], Loss: 1.8834\n",
      "Epoch [7/10], Step [300/391], Loss: 1.8712\n",
      "Epoch [8/10], Step [100/391], Loss: 1.8572\n",
      "Epoch [8/10], Step [200/391], Loss: 1.8575\n",
      "Epoch [8/10], Step [300/391], Loss: 1.8620\n",
      "Epoch [9/10], Step [100/391], Loss: 1.8425\n",
      "Epoch [9/10], Step [200/391], Loss: 1.8468\n",
      "Epoch [9/10], Step [300/391], Loss: 1.8409\n",
      "Epoch [10/10], Step [100/391], Loss: 1.8329\n",
      "Epoch [10/10], Step [200/391], Loss: 1.8233\n",
      "Epoch [10/10], Step [300/391], Loss: 1.8232\n"
     ]
    }
   ],
   "source": [
    "epochs = 10\n",
    "for epoch in range(epochs):\n",
    "    running_loss = 0.0\n",
    "    for i, (inputs, labels) in enumerate(trainloader):\n",
    "        inputs = (inputs/255).to(device)\n",
    "        labels = labels.to(device)\n",
    "\n",
    "        optimizer.zero_grad()\n",
    "\n",
    "        outputs = model(inputs)\n",
    "        loss = criterion(outputs, labels)\n",
    "        loss.backward()\n",
    "        optimizer.step()\n",
    "\n",
    "        running_loss += loss.item()\n",
    "        if i % 100 == 99:\n",
    "            print(f\"Epoch [{epoch+1}/{epochs}], Step [{i+1}/{len(trainloader)}], Loss: {running_loss/100:.4f}\")\n",
    "            running_loss = 0.0"
   ],
   "metadata": {
    "id": "bvAxy3dYuPtd",
    "outputId": "0ffa5fa7-0f7b-40e0-9a50-cd78ff1755ae",
    "colab": {
     "base_uri": "https://localhost:8080/"
    }
   }
  },
  {
   "cell_type": "code",
   "execution_count": 74,
   "outputs": [
    {
     "output_type": "stream",
     "name": "stdout",
     "text": [
      "Test Accuracy: 39.17%\n"
     ]
    }
   ],
   "source": [
    "model.eval()\n",
    "correct = 0\n",
    "total = 0\n",
    "with torch.no_grad():\n",
    "    for inputs, labels in testloader:\n",
    "        inputs = (inputs/255).to(device)\n",
    "        labels = labels.to(device)\n",
    "\n",
    "        outputs = model(inputs)\n",
    "        _, predicted = torch.max(outputs.data, 1)\n",
    "        total += labels.size(0)\n",
    "        correct += (predicted == labels).sum().item()\n",
    "\n",
    "accuracy = 100 * correct / total\n",
    "print(f\"Test Accuracy: {accuracy:.2f}%\")"
   ],
   "metadata": {
    "id": "e4sHf3EGuPtd",
    "outputId": "27583f26-6d64-4918-f901-6933358a8fb5",
    "colab": {
     "base_uri": "https://localhost:8080/"
    }
   }
  },
  {
   "cell_type": "code",
   "execution_count": 75,
   "outputs": [
    {
     "output_type": "stream",
     "name": "stdout",
     "text": [
      "[32, 32, 3]\n",
      "Working with images with mu=0.00370166078209877, sigma=0.02222158946096897\n"
     ]
    }
   ],
   "source": [
    "import mei\n",
    "import numpy as np\n",
    "\n",
    "Mei = mei.MEI(model, trainloader, device=device, iter_n=1000)"
   ],
   "metadata": {
    "id": "2pjyjZanuPtd",
    "outputId": "2697f803-d0aa-4021-8f59-dbe262fd22b7",
    "colab": {
     "base_uri": "https://localhost:8080/"
    }
   }
  },
  {
   "cell_type": "code",
   "execution_count": 76,
   "outputs": [
    {
     "output_type": "stream",
     "name": "stdout",
     "text": [
      "Working on neuron_id=1\n",
      "starting drawing\n",
      "finished step 0 in octave 0\n",
      "finished step 10 in octave 0\n",
      "finished step 20 in octave 0\n",
      "finished step 30 in octave 0\n",
      "finished step 40 in octave 0\n",
      "finished step 50 in octave 0\n",
      "finished step 60 in octave 0\n",
      "finished step 70 in octave 0\n",
      "finished step 80 in octave 0\n",
      "finished step 90 in octave 0\n",
      "finished step 100 in octave 0\n",
      "finished step 110 in octave 0\n",
      "finished step 120 in octave 0\n",
      "finished step 130 in octave 0\n",
      "finished step 140 in octave 0\n",
      "finished step 150 in octave 0\n",
      "finished step 160 in octave 0\n",
      "finished step 170 in octave 0\n",
      "finished step 180 in octave 0\n",
      "finished step 190 in octave 0\n",
      "finished step 200 in octave 0\n",
      "finished step 210 in octave 0\n",
      "finished step 220 in octave 0\n",
      "finished step 230 in octave 0\n",
      "finished step 240 in octave 0\n",
      "finished step 250 in octave 0\n",
      "finished step 260 in octave 0\n",
      "finished step 270 in octave 0\n",
      "finished step 280 in octave 0\n",
      "finished step 290 in octave 0\n",
      "finished step 300 in octave 0\n",
      "finished step 310 in octave 0\n",
      "finished step 320 in octave 0\n",
      "finished step 330 in octave 0\n",
      "finished step 340 in octave 0\n",
      "finished step 350 in octave 0\n",
      "finished step 360 in octave 0\n",
      "finished step 370 in octave 0\n",
      "finished step 380 in octave 0\n",
      "finished step 390 in octave 0\n",
      "finished step 400 in octave 0\n",
      "finished step 410 in octave 0\n",
      "finished step 420 in octave 0\n",
      "finished step 430 in octave 0\n",
      "finished step 440 in octave 0\n",
      "finished step 450 in octave 0\n",
      "finished step 460 in octave 0\n",
      "finished step 470 in octave 0\n",
      "finished step 480 in octave 0\n",
      "finished step 490 in octave 0\n",
      "finished step 500 in octave 0\n",
      "finished step 510 in octave 0\n",
      "finished step 520 in octave 0\n",
      "finished step 530 in octave 0\n",
      "finished step 540 in octave 0\n",
      "finished step 550 in octave 0\n",
      "finished step 560 in octave 0\n",
      "finished step 570 in octave 0\n",
      "finished step 580 in octave 0\n",
      "finished step 590 in octave 0\n",
      "finished step 600 in octave 0\n",
      "finished step 610 in octave 0\n",
      "finished step 620 in octave 0\n",
      "finished step 630 in octave 0\n",
      "finished step 640 in octave 0\n",
      "finished step 650 in octave 0\n",
      "finished step 660 in octave 0\n",
      "finished step 670 in octave 0\n",
      "finished step 680 in octave 0\n",
      "finished step 690 in octave 0\n",
      "finished step 700 in octave 0\n",
      "finished step 710 in octave 0\n",
      "finished step 720 in octave 0\n",
      "finished step 730 in octave 0\n",
      "finished step 740 in octave 0\n",
      "finished step 750 in octave 0\n",
      "finished step 760 in octave 0\n",
      "finished step 770 in octave 0\n",
      "finished step 780 in octave 0\n",
      "finished step 790 in octave 0\n",
      "finished step 800 in octave 0\n",
      "finished step 810 in octave 0\n",
      "finished step 820 in octave 0\n",
      "finished step 830 in octave 0\n",
      "finished step 840 in octave 0\n",
      "finished step 850 in octave 0\n",
      "finished step 860 in octave 0\n",
      "finished step 870 in octave 0\n",
      "finished step 880 in octave 0\n",
      "finished step 890 in octave 0\n",
      "finished step 900 in octave 0\n",
      "finished step 910 in octave 0\n",
      "finished step 920 in octave 0\n",
      "finished step 930 in octave 0\n",
      "finished step 940 in octave 0\n",
      "finished step 950 in octave 0\n",
      "finished step 960 in octave 0\n",
      "finished step 970 in octave 0\n",
      "finished step 980 in octave 0\n",
      "finished step 990 in octave 0\n"
     ]
    },
    {
     "output_type": "stream",
     "name": "stderr",
     "text": [
      "100%|██████████| 1000/1000 [00:01<00:00, 561.52it/s]\n"
     ]
    }
   ],
   "source": [
    "Mei.propogate(1)"
   ],
   "metadata": {
    "id": "6ZYCzT75uPte",
    "outputId": "ff8d030a-9032-4cb0-d883-c0293d7f69b7",
    "colab": {
     "base_uri": "https://localhost:8080/"
    }
   }
  },
  {
   "cell_type": "code",
   "execution_count": 77,
   "outputs": [
    {
     "output_type": "execute_result",
     "data": {
      "text/plain": [
       "array([[[107.28657342, 112.37592503, 130.73515703],\n",
       "        [137.30840735, 124.99886203, 117.37078063],\n",
       "        [131.61863881, 122.67156285, 134.8636636 ],\n",
       "        ...,\n",
       "        [130.77503219, 117.02735508, 136.38232695],\n",
       "        [126.75995555, 122.44133937, 120.19346501],\n",
       "        [134.81004099, 132.9314161 , 108.97057495]],\n",
       "\n",
       "       [[132.66507169, 132.62338451, 115.690848  ],\n",
       "        [113.42831477, 132.72473796, 123.15067247],\n",
       "        [135.35815907, 111.97512264, 123.8240908 ],\n",
       "        ...,\n",
       "        [111.8163381 , 126.12057488, 127.27462188],\n",
       "        [146.48481706, 118.57550978, 132.05162344],\n",
       "        [129.19026829, 125.77769185, 122.5362694 ]],\n",
       "\n",
       "       [[119.11061824, 125.47851417, 134.91136189],\n",
       "        [132.09424376, 119.65799849, 131.89447731],\n",
       "        [129.91518254, 132.48010517, 132.06878875],\n",
       "        ...,\n",
       "        [117.9878095 , 124.3856308 , 123.29384331],\n",
       "        [122.86737976, 123.8720495 , 125.07431561],\n",
       "        [121.14438195, 130.14869369, 127.47156723]],\n",
       "\n",
       "       ...,\n",
       "\n",
       "       [[115.24949772, 119.85729837, 132.71846644],\n",
       "        [133.06000402, 124.05816616, 130.4148645 ],\n",
       "        [126.92503331, 121.50691503, 130.44826198],\n",
       "        ...,\n",
       "        [123.50204051, 126.63893035, 134.9243715 ],\n",
       "        [128.48051202, 129.54550991, 128.13335394],\n",
       "        [124.91254722, 126.86201427, 115.95987246]],\n",
       "\n",
       "       [[137.92957022, 125.23907872, 136.45470987],\n",
       "        [126.95585926, 141.94003545, 133.26317749],\n",
       "        [133.07555262, 125.62819524, 127.62442746],\n",
       "        ...,\n",
       "        [129.70298156, 125.25744842, 124.79541731],\n",
       "        [118.13514689, 134.01833177, 125.76883794],\n",
       "        [129.45917339, 134.51383632, 139.74776931]],\n",
       "\n",
       "       [[123.0922323 , 137.71751029, 140.90175121],\n",
       "        [127.65728243, 140.25887672, 121.12699963],\n",
       "        [134.8341831 , 120.95001899, 119.04857574],\n",
       "        ...,\n",
       "        [125.99535059, 135.93460749, 133.23101694],\n",
       "        [130.57452792, 124.12830306, 123.01676787],\n",
       "        [128.49539875, 116.98820689, 122.34419587]]])"
      ]
     },
     "metadata": {},
     "execution_count": 77
    }
   ],
   "source": [
    "Mei.mei"
   ],
   "metadata": {
    "id": "U4eX9M3RuPte",
    "outputId": "4b40fe44-6a3d-44f2-c8f5-da1b44299348",
    "colab": {
     "base_uri": "https://localhost:8080/"
    }
   }
  },
  {
   "cell_type": "code",
   "execution_count": 78,
   "outputs": [
    {
     "output_type": "display_data",
     "data": {
      "text/plain": [
       "<Figure size 640x480 with 1 Axes>"
      ],
      "image/png": "[encoded data removed]"
     },
     "metadata": {}
    }
   ],
   "source": [
    "import matplotlib.pyplot as plt\n",
    "\n",
    "plt.imshow(Mei.mei/255, cmap='gray')\n",
    "plt.axis('off')\n",
    "plt.show()"
   ],
   "metadata": {
    "id": "wVgCmjzMuPte",
    "outputId": "dd2c8864-9256-4549-f2d6-f5794976127c",
    "colab": {
     "base_uri": "https://localhost:8080/",
     "height": 406
    }
   }
  },
  {
   "cell_type": "code",
   "source": [
    "Mei.mei.shape"
   ],
   "metadata": {
    "id": "6W3i-m8dw0We",
    "outputId": "ba6d1097-b4c9-4c93-9d63-2fd7852f2404",
    "colab": {
     "base_uri": "https://localhost:8080/"
    }
   },
   "execution_count": 79,
   "outputs": [
    {
     "output_type": "execute_result",
     "data": {
      "text/plain": [
       "(32, 32, 3)"
      ]
     },
     "metadata": {},
     "execution_count": 79
    }
   ]
  },
  {
   "cell_type": "code",
   "source": [
    "y = model(torch.tensor(np.moveaxis(Mei.mei, -1, -3)).float().unsqueeze(0).to(device))"
   ],
   "metadata": {
    "id": "QWirHq2Iwrqe"
   },
   "execution_count": 81,
   "outputs": []
  },
  {
   "cell_type": "code",
   "source": [
    "print(np.argmax(y.cpu().detach().numpy()))\n",
    "print(y)"
   ],
   "metadata": {
    "id": "hF9yXTeryW66",
    "outputId": "d41319dd-df15-493a-c65c-5116f16a94ba",
    "colab": {
     "base_uri": "https://localhost:8080/"
    }
   },
   "execution_count": 82,
   "outputs": [
    {
     "output_type": "stream",
     "name": "stdout",
     "text": [
      "0\n",
      "tensor([[1.0000e+00, 1.3645e-11, 1.4854e-09, 1.6196e-09, 1.1641e-09, 1.5210e-15,\n",
      "         2.9764e-16, 1.6118e-14, 3.7889e-07, 1.3219e-13]], device='cuda:0',\n",
      "       grad_fn=<SoftmaxBackward0>)\n"
     ]
    }
   ]
  },
  {
   "cell_type": "code",
   "execution_count": null,
   "outputs": [
    {
     "data": {
      "text/plain": "<module 'mei' from '/Users/laszlofreund/code/ai/mei/torch/mei/mei.py'>"
     },
     "execution_count": 59,
     "metadata": {},
     "output_type": "execute_result"
    }
   ],
   "source": [
    "import importlib\n",
    "importlib.reload(mei)"
   ],
   "metadata": {
    "id": "61UdLhocuPte",
    "outputId": "8ca77ce4-650b-49bf-8ae5-fb68f79f0281"
   }
  }
 ],
 "metadata": {
  "kernelspec": {
   "display_name": "Python 3",
   "name": "python3"
  },
  "language_info": {
   "codemirror_mode": {
    "name": "ipython",
    "version": 2
   },
   "file_extension": ".py",
   "mimetype": "text/x-python",
   "name": "python",
   "nbconvert_exporter": "python",
   "pygments_lexer": "ipython2",
   "version": "2.7.6"
  },
  "colab": {
   "provenance": [],
   "gpuType": "T4"
  },
  "accelerator": "GPU"
 },
 "nbformat": 4,
 "nbformat_minor": 0
}
