{
 "cells": [
  {
   "cell_type": "code",
   "execution_count": 2,
   "outputs": [
    {
     "name": "stderr",
     "output_type": "stream",
     "text": [
      "/Users/laszlofreund/miniconda/lib/python3.10/site-packages/torchvision/io/image.py:13: UserWarning: Failed to load image Python extension: 'dlopen(/Users/laszlofreund/miniconda/lib/python3.10/site-packages/torchvision/image.so, 0x0006): symbol not found in flat namespace '__ZN2at4_ops19empty_memory_format4callEN3c108ArrayRefINS2_6SymIntEEENS2_8optionalINS2_10ScalarTypeEEENS6_INS2_6LayoutEEENS6_INS2_6DeviceEEENS6_IbEENS6_INS2_12MemoryFormatEEE''If you don't plan on using image functionality from `torchvision.io`, you can ignore this warning. Otherwise, there might be something wrong with your environment. Did you have `libjpeg` or `libpng` installed before building `torchvision` from source?\n",
      "  warn(\n"
     ]
    }
   ],
   "source": [
    "import torch\n",
    "import torch.nn as nn\n",
    "import torch.optim as optim\n",
    "from torch.utils.data import DataLoader\n",
    "import torchvision.transforms as transforms\n",
    "from torchvision.datasets import CIFAR10\n",
    "import torch.nn.functional as F\n",
    "\n",
    "device = torch.device(\"cuda\" if torch.cuda.is_available() else \"cpu\")"
   ],
   "metadata": {
    "collapsed": false
   }
  },
  {
   "cell_type": "code",
   "execution_count": 3,
   "outputs": [],
   "source": [
    "class Classifier(nn.Module):\n",
    "    def __init__(self, KERNEL_SIZE=(3, 3), INPUT_SHAPE=(3, 32, 32)):\n",
    "        super(Classifier, self).__init__()\n",
    "\n",
    "        self.conv1 = nn.Conv2d(3, 32, KERNEL_SIZE, padding=1)\n",
    "        self.bn1 = nn.BatchNorm2d(32)\n",
    "        self.conv2 = nn.Conv2d(32, 32, KERNEL_SIZE, padding=1)\n",
    "        self.bn2 = nn.BatchNorm2d(32)\n",
    "        self.maxpool1 = nn.MaxPool2d(2)\n",
    "        self.dropout1 = nn.Dropout2d(0.25)\n",
    "\n",
    "        self.conv3 = nn.Conv2d(32, 64, KERNEL_SIZE, padding=1)\n",
    "        self.bn3 = nn.BatchNorm2d(64)\n",
    "        self.conv4 = nn.Conv2d(64, 64, KERNEL_SIZE, padding=1)\n",
    "        self.bn4 = nn.BatchNorm2d(64)\n",
    "        self.maxpool2 = nn.MaxPool2d(2)\n",
    "        self.dropout2 = nn.Dropout2d(0.25)\n",
    "\n",
    "        self.conv5 = nn.Conv2d(64, 128, KERNEL_SIZE, padding=1)\n",
    "        self.bn5 = nn.BatchNorm2d(128)\n",
    "        self.conv6 = nn.Conv2d(128, 128, KERNEL_SIZE, padding=1)\n",
    "        self.bn6 = nn.BatchNorm2d(128)\n",
    "        self.maxpool3 = nn.MaxPool2d(2)\n",
    "\n",
    "        self.groupnorm = nn.GroupNorm(32, 128)\n",
    "        self.activation = nn.SiLU()\n",
    "        self.zeropad1 = nn.ZeroPad2d((1, 1, 1, 1))\n",
    "        self.conv7 = nn.Conv2d(128, 16, 3, stride=1)\n",
    "        self.zeropad2 = nn.ZeroPad2d((1, 1, 1, 1))\n",
    "        self.conv8 = nn.Conv2d(16, 8, 1, stride=1)\n",
    "\n",
    "        self.flatten = nn.Flatten()\n",
    "        self.dropout3 = nn.Dropout(0.2)\n",
    "        self.fc1 = nn.Linear(8 * 6 * 6, 128)\n",
    "        self.dropout4 = nn.Dropout(0.25)\n",
    "        self.fc2 = nn.Linear(128, 10)\n",
    "\n",
    "    def forward(self, x):\n",
    "        x = self.conv1(x)\n",
    "        x = self.bn1(x)\n",
    "        x = F.relu(x)\n",
    "        x = self.conv2(x)\n",
    "        x = self.bn2(x)\n",
    "        x = F.relu(x)\n",
    "        x = self.maxpool1(x)\n",
    "        x = self.dropout1(x)\n",
    "\n",
    "        x = self.conv3(x)\n",
    "        x = self.bn3(x)\n",
    "        x = F.relu(x)\n",
    "        x = self.conv4(x)\n",
    "        x = self.bn4(x)\n",
    "        x = F.relu(x)\n",
    "        x = self.maxpool2(x)\n",
    "        x = self.dropout2(x)\n",
    "\n",
    "        x = self.conv5(x)\n",
    "        x = self.bn5(x)\n",
    "        x = F.relu(x)\n",
    "        x = self.conv6(x)\n",
    "        x = self.bn6(x)\n",
    "        x = F.relu(x)\n",
    "        x = self.maxpool3(x)\n",
    "\n",
    "        x = self.groupnorm(x)\n",
    "        x = self.activation(x)\n",
    "        x = self.zeropad1(x)\n",
    "        x = self.conv7(x)\n",
    "        x = self.zeropad2(x)\n",
    "        x = self.conv8(x)\n",
    "\n",
    "        x = self.flatten(x)\n",
    "        x = self.dropout3(x)\n",
    "        x = self.fc1(x)\n",
    "        x = F.relu(x)\n",
    "        x = self.dropout4(x)\n",
    "        x = self.fc2(x)\n",
    "\n",
    "        return F.softmax(x, dim=1)"
   ],
   "metadata": {
    "collapsed": false
   }
  },
  {
   "cell_type": "markdown",
   "source": [],
   "metadata": {
    "collapsed": false
   }
  },
  {
   "cell_type": "code",
   "execution_count": 4,
   "outputs": [
    {
     "name": "stdout",
     "output_type": "stream",
     "text": [
      "Files already downloaded and verified\n",
      "Files already downloaded and verified\n"
     ]
    }
   ],
   "source": [
    "# Load CIFAR-10 trainset\n",
    "trainset = CIFAR10(root='./data', train=True, download=True, transform=transforms.ToTensor())\n",
    "\n",
    "# Load CIFAR-10 testset\n",
    "testset = CIFAR10(root='./data', train=False, download=True, transform=transforms.ToTensor())\n",
    "\n",
    "# Set batch size\n",
    "batch_size = 128\n",
    "\n",
    "# Create train and test dataloaders\n",
    "trainloader = DataLoader(trainset, batch_size=batch_size, shuffle=True)\n",
    "testloader = DataLoader(testset, batch_size=batch_size, shuffle=False)"
   ],
   "metadata": {
    "collapsed": false
   }
  },
  {
   "cell_type": "code",
   "execution_count": 5,
   "outputs": [],
   "source": [
    "model = Classifier().to(device)"
   ],
   "metadata": {
    "collapsed": false
   }
  },
  {
   "cell_type": "code",
   "execution_count": 6,
   "outputs": [],
   "source": [
    "criterion = nn.CrossEntropyLoss()\n",
    "optimizer = optim.Adam(model.parameters(), lr=0.001)"
   ],
   "metadata": {
    "collapsed": false
   }
  },
  {
   "cell_type": "code",
   "execution_count": 7,
   "outputs": [
    {
     "name": "stdout",
     "output_type": "stream",
     "text": [
      "Epoch [1/10], Step [100/391], Loss: 2.1862\n",
      "Epoch [1/10], Step [200/391], Loss: 2.1168\n",
      "Epoch [1/10], Step [300/391], Loss: 2.0779\n",
      "Epoch [2/10], Step [100/391], Loss: 2.0483\n",
      "Epoch [2/10], Step [200/391], Loss: 2.0378\n",
      "Epoch [2/10], Step [300/391], Loss: 2.0434\n",
      "Epoch [3/10], Step [100/391], Loss: 2.0073\n",
      "Epoch [3/10], Step [200/391], Loss: 1.9969\n",
      "Epoch [3/10], Step [300/391], Loss: 1.9925\n",
      "Epoch [4/10], Step [100/391], Loss: 1.9665\n",
      "Epoch [4/10], Step [200/391], Loss: 1.9644\n",
      "Epoch [4/10], Step [300/391], Loss: 1.9552\n",
      "Epoch [5/10], Step [100/391], Loss: 1.9320\n",
      "Epoch [5/10], Step [200/391], Loss: 1.9301\n",
      "Epoch [5/10], Step [300/391], Loss: 1.9188\n",
      "Epoch [6/10], Step [100/391], Loss: 1.9048\n",
      "Epoch [6/10], Step [200/391], Loss: 1.8938\n",
      "Epoch [6/10], Step [300/391], Loss: 1.8940\n",
      "Epoch [7/10], Step [100/391], Loss: 1.8777\n",
      "Epoch [7/10], Step [200/391], Loss: 1.8759\n",
      "Epoch [7/10], Step [300/391], Loss: 1.8774\n",
      "Epoch [8/10], Step [100/391], Loss: 1.8638\n",
      "Epoch [8/10], Step [200/391], Loss: 1.8665\n",
      "Epoch [8/10], Step [300/391], Loss: 1.8662\n",
      "Epoch [9/10], Step [100/391], Loss: 1.8496\n",
      "Epoch [9/10], Step [200/391], Loss: 1.8446\n",
      "Epoch [9/10], Step [300/391], Loss: 1.8428\n",
      "Epoch [10/10], Step [100/391], Loss: 1.8321\n",
      "Epoch [10/10], Step [200/391], Loss: 1.8357\n",
      "Epoch [10/10], Step [300/391], Loss: 1.8340\n"
     ]
    }
   ],
   "source": [
    "epochs = 10\n",
    "for epoch in range(epochs):\n",
    "    running_loss = 0.0\n",
    "    for i, (inputs, labels) in enumerate(trainloader):\n",
    "        inputs = inputs.to(device)\n",
    "        labels = labels.to(device)\n",
    "\n",
    "        optimizer.zero_grad()\n",
    "\n",
    "        outputs = model(inputs)\n",
    "        loss = criterion(outputs, labels)\n",
    "        loss.backward()\n",
    "        optimizer.step()\n",
    "\n",
    "        running_loss += loss.item()\n",
    "        if i % 100 == 99:\n",
    "            print(f\"Epoch [{epoch+1}/{epochs}], Step [{i+1}/{len(trainloader)}], Loss: {running_loss/100:.4f}\")\n",
    "            running_loss = 0.0"
   ],
   "metadata": {
    "collapsed": false
   }
  },
  {
   "cell_type": "code",
   "execution_count": 8,
   "outputs": [
    {
     "name": "stdout",
     "output_type": "stream",
     "text": [
      "Test Accuracy: 65.10%\n"
     ]
    }
   ],
   "source": [
    "model.eval()\n",
    "correct = 0\n",
    "total = 0\n",
    "with torch.no_grad():\n",
    "    for inputs, labels in testloader:\n",
    "        inputs = inputs.to(device)\n",
    "        labels = labels.to(device)\n",
    "\n",
    "        outputs = model(inputs)\n",
    "        _, predicted = torch.max(outputs.data, 1)\n",
    "        total += labels.size(0)\n",
    "        correct += (predicted == labels).sum().item()\n",
    "\n",
    "accuracy = 100 * correct / total\n",
    "print(f\"Test Accuracy: {accuracy:.2f}%\")"
   ],
   "metadata": {
    "collapsed": false
   }
  },
  {
   "cell_type": "code",
   "execution_count": 30,
   "outputs": [
    {
     "name": "stdout",
     "output_type": "stream",
     "text": [
      "[32, 32, 3]\n",
      "Working with images with mu=0.0037017855793237686, sigma=0.02222735621035099\n"
     ]
    }
   ],
   "source": [
    "import mei\n",
    "Mei = mei.MEI(model, trainloader)"
   ],
   "metadata": {
    "collapsed": false
   }
  },
  {
   "cell_type": "code",
   "execution_count": 31,
   "outputs": [
    {
     "name": "stdout",
     "output_type": "stream",
     "text": [
      "Working on neuron_id=0\n"
     ]
    },
    {
     "ename": "RuntimeError",
     "evalue": "Given groups=1, weight of size [32, 3, 3, 3], expected input[1, 32, 3, 3] to have 3 channels, but got 32 channels instead",
     "output_type": "error",
     "traceback": [
      "\u001B[0;31m---------------------------------------------------------------------------\u001B[0m",
      "\u001B[0;31mRuntimeError\u001B[0m                              Traceback (most recent call last)",
      "Cell \u001B[0;32mIn[31], line 1\u001B[0m\n\u001B[0;32m----> 1\u001B[0m \u001B[43mMei\u001B[49m\u001B[38;5;241;43m.\u001B[39;49m\u001B[43mpropogate\u001B[49m\u001B[43m(\u001B[49m\u001B[38;5;241;43m0\u001B[39;49m\u001B[43m)\u001B[49m\n",
      "File \u001B[0;32m~/code/ai/mei/torch/mei/mei.py:73\u001B[0m, in \u001B[0;36mMEI.propogate\u001B[0;34m(self, neuron_id)\u001B[0m\n\u001B[1;32m     71\u001B[0m \u001B[38;5;28;01mwith\u001B[39;00m torch\u001B[38;5;241m.\u001B[39mno_grad():\n\u001B[1;32m     72\u001B[0m     img \u001B[38;5;241m=\u001B[39m torch\u001B[38;5;241m.\u001B[39mTensor(process(gen_image, mu\u001B[38;5;241m=\u001B[39m\u001B[38;5;28mself\u001B[39m\u001B[38;5;241m.\u001B[39mbias, sigma\u001B[38;5;241m=\u001B[39m\u001B[38;5;28mself\u001B[39m\u001B[38;5;241m.\u001B[39mscale)[\u001B[38;5;28;01mNone\u001B[39;00m, \u001B[38;5;241m.\u001B[39m\u001B[38;5;241m.\u001B[39m\u001B[38;5;241m.\u001B[39m])\u001B[38;5;241m.\u001B[39mto(\u001B[38;5;124m'\u001B[39m\u001B[38;5;124mcpu\u001B[39m\u001B[38;5;124m'\u001B[39m)\n\u001B[0;32m---> 73\u001B[0m     activation \u001B[38;5;241m=\u001B[39m \u001B[43madj_model\u001B[49m\u001B[43m(\u001B[49m\u001B[43mimg\u001B[49m\u001B[43m)\u001B[49m\u001B[38;5;241m.\u001B[39mdata\u001B[38;5;241m.\u001B[39mcpu()\u001B[38;5;241m.\u001B[39mnumpy()[\u001B[38;5;241m0\u001B[39m]\n\u001B[1;32m     74\u001B[0m cont, vals, lim_contrast \u001B[38;5;241m=\u001B[39m \u001B[38;5;28mself\u001B[39m\u001B[38;5;241m.\u001B[39mcontrast_tuning(adj_model, mei, \u001B[38;5;28mself\u001B[39m\u001B[38;5;241m.\u001B[39mbias, \u001B[38;5;28mself\u001B[39m\u001B[38;5;241m.\u001B[39mscale)\n\u001B[1;32m     76\u001B[0m \u001B[38;5;28mself\u001B[39m\u001B[38;5;241m.\u001B[39mmei \u001B[38;5;241m=\u001B[39m mei\n",
      "File \u001B[0;32m~/code/ai/mei/torch/mei/mei.py:44\u001B[0m, in \u001B[0;36mMEI.propogate.<locals>.adj_model\u001B[0;34m(x)\u001B[0m\n\u001B[1;32m     43\u001B[0m \u001B[38;5;28;01mdef\u001B[39;00m \u001B[38;5;21madj_model\u001B[39m(x):\n\u001B[0;32m---> 44\u001B[0m     \u001B[38;5;28;01mreturn\u001B[39;00m \u001B[38;5;28;43mself\u001B[39;49m\u001B[38;5;241;43m.\u001B[39;49m\u001B[43mmodel\u001B[49m\u001B[43m(\u001B[49m\u001B[43mx\u001B[49m\u001B[43m)\u001B[49m[:, neuron_id]\n",
      "File \u001B[0;32m~/miniconda/lib/python3.10/site-packages/torch/nn/modules/module.py:1130\u001B[0m, in \u001B[0;36mModule._call_impl\u001B[0;34m(self, *input, **kwargs)\u001B[0m\n\u001B[1;32m   1126\u001B[0m \u001B[38;5;66;03m# If we don't have any hooks, we want to skip the rest of the logic in\u001B[39;00m\n\u001B[1;32m   1127\u001B[0m \u001B[38;5;66;03m# this function, and just call forward.\u001B[39;00m\n\u001B[1;32m   1128\u001B[0m \u001B[38;5;28;01mif\u001B[39;00m \u001B[38;5;129;01mnot\u001B[39;00m (\u001B[38;5;28mself\u001B[39m\u001B[38;5;241m.\u001B[39m_backward_hooks \u001B[38;5;129;01mor\u001B[39;00m \u001B[38;5;28mself\u001B[39m\u001B[38;5;241m.\u001B[39m_forward_hooks \u001B[38;5;129;01mor\u001B[39;00m \u001B[38;5;28mself\u001B[39m\u001B[38;5;241m.\u001B[39m_forward_pre_hooks \u001B[38;5;129;01mor\u001B[39;00m _global_backward_hooks\n\u001B[1;32m   1129\u001B[0m         \u001B[38;5;129;01mor\u001B[39;00m _global_forward_hooks \u001B[38;5;129;01mor\u001B[39;00m _global_forward_pre_hooks):\n\u001B[0;32m-> 1130\u001B[0m     \u001B[38;5;28;01mreturn\u001B[39;00m \u001B[43mforward_call\u001B[49m\u001B[43m(\u001B[49m\u001B[38;5;241;43m*\u001B[39;49m\u001B[38;5;28;43minput\u001B[39;49m\u001B[43m,\u001B[49m\u001B[43m \u001B[49m\u001B[38;5;241;43m*\u001B[39;49m\u001B[38;5;241;43m*\u001B[39;49m\u001B[43mkwargs\u001B[49m\u001B[43m)\u001B[49m\n\u001B[1;32m   1131\u001B[0m \u001B[38;5;66;03m# Do not call functions when jit is used\u001B[39;00m\n\u001B[1;32m   1132\u001B[0m full_backward_hooks, non_full_backward_hooks \u001B[38;5;241m=\u001B[39m [], []\n",
      "Cell \u001B[0;32mIn[3], line 39\u001B[0m, in \u001B[0;36mClassifier.forward\u001B[0;34m(self, x)\u001B[0m\n\u001B[1;32m     38\u001B[0m \u001B[38;5;28;01mdef\u001B[39;00m \u001B[38;5;21mforward\u001B[39m(\u001B[38;5;28mself\u001B[39m, x):\n\u001B[0;32m---> 39\u001B[0m     x \u001B[38;5;241m=\u001B[39m \u001B[38;5;28;43mself\u001B[39;49m\u001B[38;5;241;43m.\u001B[39;49m\u001B[43mconv1\u001B[49m\u001B[43m(\u001B[49m\u001B[43mx\u001B[49m\u001B[43m)\u001B[49m\n\u001B[1;32m     40\u001B[0m     x \u001B[38;5;241m=\u001B[39m \u001B[38;5;28mself\u001B[39m\u001B[38;5;241m.\u001B[39mbn1(x)\n\u001B[1;32m     41\u001B[0m     x \u001B[38;5;241m=\u001B[39m F\u001B[38;5;241m.\u001B[39mrelu(x)\n",
      "File \u001B[0;32m~/miniconda/lib/python3.10/site-packages/torch/nn/modules/module.py:1130\u001B[0m, in \u001B[0;36mModule._call_impl\u001B[0;34m(self, *input, **kwargs)\u001B[0m\n\u001B[1;32m   1126\u001B[0m \u001B[38;5;66;03m# If we don't have any hooks, we want to skip the rest of the logic in\u001B[39;00m\n\u001B[1;32m   1127\u001B[0m \u001B[38;5;66;03m# this function, and just call forward.\u001B[39;00m\n\u001B[1;32m   1128\u001B[0m \u001B[38;5;28;01mif\u001B[39;00m \u001B[38;5;129;01mnot\u001B[39;00m (\u001B[38;5;28mself\u001B[39m\u001B[38;5;241m.\u001B[39m_backward_hooks \u001B[38;5;129;01mor\u001B[39;00m \u001B[38;5;28mself\u001B[39m\u001B[38;5;241m.\u001B[39m_forward_hooks \u001B[38;5;129;01mor\u001B[39;00m \u001B[38;5;28mself\u001B[39m\u001B[38;5;241m.\u001B[39m_forward_pre_hooks \u001B[38;5;129;01mor\u001B[39;00m _global_backward_hooks\n\u001B[1;32m   1129\u001B[0m         \u001B[38;5;129;01mor\u001B[39;00m _global_forward_hooks \u001B[38;5;129;01mor\u001B[39;00m _global_forward_pre_hooks):\n\u001B[0;32m-> 1130\u001B[0m     \u001B[38;5;28;01mreturn\u001B[39;00m \u001B[43mforward_call\u001B[49m\u001B[43m(\u001B[49m\u001B[38;5;241;43m*\u001B[39;49m\u001B[38;5;28;43minput\u001B[39;49m\u001B[43m,\u001B[49m\u001B[43m \u001B[49m\u001B[38;5;241;43m*\u001B[39;49m\u001B[38;5;241;43m*\u001B[39;49m\u001B[43mkwargs\u001B[49m\u001B[43m)\u001B[49m\n\u001B[1;32m   1131\u001B[0m \u001B[38;5;66;03m# Do not call functions when jit is used\u001B[39;00m\n\u001B[1;32m   1132\u001B[0m full_backward_hooks, non_full_backward_hooks \u001B[38;5;241m=\u001B[39m [], []\n",
      "File \u001B[0;32m~/miniconda/lib/python3.10/site-packages/torch/nn/modules/conv.py:457\u001B[0m, in \u001B[0;36mConv2d.forward\u001B[0;34m(self, input)\u001B[0m\n\u001B[1;32m    456\u001B[0m \u001B[38;5;28;01mdef\u001B[39;00m \u001B[38;5;21mforward\u001B[39m(\u001B[38;5;28mself\u001B[39m, \u001B[38;5;28minput\u001B[39m: Tensor) \u001B[38;5;241m-\u001B[39m\u001B[38;5;241m>\u001B[39m Tensor:\n\u001B[0;32m--> 457\u001B[0m     \u001B[38;5;28;01mreturn\u001B[39;00m \u001B[38;5;28;43mself\u001B[39;49m\u001B[38;5;241;43m.\u001B[39;49m\u001B[43m_conv_forward\u001B[49m\u001B[43m(\u001B[49m\u001B[38;5;28;43minput\u001B[39;49m\u001B[43m,\u001B[49m\u001B[43m \u001B[49m\u001B[38;5;28;43mself\u001B[39;49m\u001B[38;5;241;43m.\u001B[39;49m\u001B[43mweight\u001B[49m\u001B[43m,\u001B[49m\u001B[43m \u001B[49m\u001B[38;5;28;43mself\u001B[39;49m\u001B[38;5;241;43m.\u001B[39;49m\u001B[43mbias\u001B[49m\u001B[43m)\u001B[49m\n",
      "File \u001B[0;32m~/miniconda/lib/python3.10/site-packages/torch/nn/modules/conv.py:453\u001B[0m, in \u001B[0;36mConv2d._conv_forward\u001B[0;34m(self, input, weight, bias)\u001B[0m\n\u001B[1;32m    449\u001B[0m \u001B[38;5;28;01mif\u001B[39;00m \u001B[38;5;28mself\u001B[39m\u001B[38;5;241m.\u001B[39mpadding_mode \u001B[38;5;241m!=\u001B[39m \u001B[38;5;124m'\u001B[39m\u001B[38;5;124mzeros\u001B[39m\u001B[38;5;124m'\u001B[39m:\n\u001B[1;32m    450\u001B[0m     \u001B[38;5;28;01mreturn\u001B[39;00m F\u001B[38;5;241m.\u001B[39mconv2d(F\u001B[38;5;241m.\u001B[39mpad(\u001B[38;5;28minput\u001B[39m, \u001B[38;5;28mself\u001B[39m\u001B[38;5;241m.\u001B[39m_reversed_padding_repeated_twice, mode\u001B[38;5;241m=\u001B[39m\u001B[38;5;28mself\u001B[39m\u001B[38;5;241m.\u001B[39mpadding_mode),\n\u001B[1;32m    451\u001B[0m                     weight, bias, \u001B[38;5;28mself\u001B[39m\u001B[38;5;241m.\u001B[39mstride,\n\u001B[1;32m    452\u001B[0m                     _pair(\u001B[38;5;241m0\u001B[39m), \u001B[38;5;28mself\u001B[39m\u001B[38;5;241m.\u001B[39mdilation, \u001B[38;5;28mself\u001B[39m\u001B[38;5;241m.\u001B[39mgroups)\n\u001B[0;32m--> 453\u001B[0m \u001B[38;5;28;01mreturn\u001B[39;00m \u001B[43mF\u001B[49m\u001B[38;5;241;43m.\u001B[39;49m\u001B[43mconv2d\u001B[49m\u001B[43m(\u001B[49m\u001B[38;5;28;43minput\u001B[39;49m\u001B[43m,\u001B[49m\u001B[43m \u001B[49m\u001B[43mweight\u001B[49m\u001B[43m,\u001B[49m\u001B[43m \u001B[49m\u001B[43mbias\u001B[49m\u001B[43m,\u001B[49m\u001B[43m \u001B[49m\u001B[38;5;28;43mself\u001B[39;49m\u001B[38;5;241;43m.\u001B[39;49m\u001B[43mstride\u001B[49m\u001B[43m,\u001B[49m\n\u001B[1;32m    454\u001B[0m \u001B[43m                \u001B[49m\u001B[38;5;28;43mself\u001B[39;49m\u001B[38;5;241;43m.\u001B[39;49m\u001B[43mpadding\u001B[49m\u001B[43m,\u001B[49m\u001B[43m \u001B[49m\u001B[38;5;28;43mself\u001B[39;49m\u001B[38;5;241;43m.\u001B[39;49m\u001B[43mdilation\u001B[49m\u001B[43m,\u001B[49m\u001B[43m \u001B[49m\u001B[38;5;28;43mself\u001B[39;49m\u001B[38;5;241;43m.\u001B[39;49m\u001B[43mgroups\u001B[49m\u001B[43m)\u001B[49m\n",
      "\u001B[0;31mRuntimeError\u001B[0m: Given groups=1, weight of size [32, 3, 3, 3], expected input[1, 32, 3, 3] to have 3 channels, but got 32 channels instead"
     ]
    }
   ],
   "source": [
    "Mei.propogate(0)"
   ],
   "metadata": {
    "collapsed": false
   }
  },
  {
   "cell_type": "code",
   "execution_count": 29,
   "outputs": [
    {
     "data": {
      "text/plain": "array([[126.00769432, 124.7988393 , 143.78924915, 133.31139338,\n        138.24349794, 132.83791464, 124.93505899, 123.31955223,\n        124.48463138, 127.42210854, 120.67224813, 126.54970166,\n        124.46318877, 116.41260116, 119.93190004, 123.38086239,\n        109.9761843 , 120.20195986, 112.08558214, 135.13259226,\n        117.70169645, 125.77201179, 130.51974719, 125.86058716,\n        140.39927057, 130.65940993, 121.52494058, 116.35437512],\n       [125.7109808 , 142.61349523, 134.00185053, 134.17421556,\n        134.70334138, 132.59763252, 124.07864433, 115.53721651,\n        128.02663575, 131.255283  , 121.34636743, 139.73913616,\n        119.23920956, 123.46389432, 117.27990329, 121.94815616,\n        116.35127771, 135.34453239, 128.87769308, 106.93276366,\n        123.64350437, 124.3767005 , 132.24879472, 128.97508212,\n        137.42070284, 123.52499178, 137.63663105, 138.9860129 ],\n       [136.93886241, 129.50396865, 137.38119421, 131.23038405,\n        126.38438224, 119.67317967, 111.16646814, 121.43467693,\n        117.84747425, 127.49918493, 120.22154136, 125.82944022,\n        126.05194877, 121.582595  , 133.16940426, 130.28144582,\n        121.894769  , 127.49158098, 122.80963569, 122.21099755,\n        120.92309868, 144.55934835, 111.70308491, 128.0600559 ,\n        135.32445903, 123.96544918, 124.47894171, 127.54185744],\n       [141.96703995, 122.72932895, 126.48905618, 128.343077  ,\n        120.86007364, 125.78756532, 134.471514  , 121.36068466,\n        122.2787684 , 110.13619956, 131.54880605, 137.05898353,\n        135.55705744, 124.63788019, 115.58337195, 110.30290816,\n        117.65796046, 135.23985845, 121.65715889, 132.12537679,\n        134.76397357, 131.59988012, 126.12970313, 121.09420082,\n        136.27285222, 135.04203615, 135.32907191, 120.25053474],\n       [130.35545138, 126.6333318 , 120.22334929, 128.09715839,\n        128.45458386, 117.53377149, 142.31167696, 123.22911576,\n        133.34312524, 116.34332813, 126.63565818, 142.44166194,\n        139.00228429, 128.30978978, 124.38078164, 121.57666604,\n        125.48054925, 125.72395537, 124.88750772, 121.43498268,\n        128.2139561 , 120.40904782, 131.86341278, 122.19303787,\n        138.2358807 , 139.63814455, 133.32811675, 127.80251867],\n       [132.1488799 , 120.58431086, 126.16818815, 127.32231336,\n        137.10065902, 122.07367449, 130.19293692, 120.87622539,\n        107.54038164, 130.90827972, 118.12157533, 137.8520807 ,\n        115.91290741, 122.6017767 , 115.03103547, 140.64645208,\n        113.92205539, 103.13659198, 134.68940967, 133.13422935,\n        129.37379756, 133.51461289, 118.38683616, 133.35726965,\n        127.32198102, 128.02017505, 128.91387831, 139.09194973],\n       [114.4151688 , 125.37937153, 129.19284485, 129.90550234,\n        122.30253739, 139.87768223, 141.5425083 , 126.85097489,\n        135.77396938, 127.91664437, 145.63856403, 128.26447185,\n        139.37681864, 133.07176265, 112.18176146, 116.43270111,\n        128.57531648, 136.2060518 , 124.87023931, 116.2994326 ,\n        122.08736691, 130.91002119, 128.56145124, 134.26559588,\n        131.20786467, 121.92160881, 131.0384774 , 134.60173827],\n       [130.73087641, 124.26149802, 112.37130184, 124.14100468,\n        133.33150662, 121.89091385, 124.46845304, 134.69053963,\n        119.74774357, 126.5616792 , 130.25581573, 106.62813379,\n        124.12265949, 129.33085918, 131.59085376, 130.89133036,\n        141.76795475, 129.46446003, 125.69323382, 134.78783561,\n        144.29578911, 109.3620458 , 140.69091922, 127.84901974,\n        123.40065659, 116.78052859, 125.86033458, 143.58040643],\n       [135.60426307, 122.77537804, 117.60249949, 119.39196651,\n        134.01487827, 132.32366437, 128.36172794, 130.89768471,\n        128.09182765, 131.24871595, 122.26879819, 124.39903378,\n        139.61453509, 129.68934814, 137.02544374, 111.72129717,\n        134.59550356, 114.76182644, 127.60030947, 118.20501937,\n        131.27474485, 127.30111004, 134.15411561, 121.80842696,\n        122.66997295, 134.07717216, 126.73857736, 138.03946752],\n       [139.46054184, 126.69659612, 126.34129763, 117.53690878,\n        119.31766849, 131.90185792, 121.22119474, 131.29396742,\n        121.09587581, 133.5287573 , 131.61480886, 124.47486057,\n        136.25664731, 144.8283181 , 133.8498912 , 131.38533445,\n        123.77574927, 121.58641026, 134.5417043 , 126.1201849 ,\n        128.21722633, 121.63430717, 129.31320526, 128.8532993 ,\n        127.90493269, 136.80737525, 136.93479457, 125.31973637],\n       [126.53303146, 139.51407523, 126.38464811, 133.09383005,\n        142.99887717, 135.20837917, 113.64186583, 128.92164178,\n        107.53826131, 122.01955617, 133.87847247, 131.22024102,\n        137.08530489, 134.48593758, 127.57433374, 130.13344799,\n        122.89993923, 143.34439156, 135.09513085, 138.66751114,\n        142.12193717, 118.94643095, 134.70027056, 116.0801411 ,\n        131.27481132, 120.82729158, 129.04173631, 139.11579848],\n       [137.79305704, 129.54402232, 127.64457721, 126.35101526,\n        136.0813045 , 128.02186334, 118.67562669, 136.70046799,\n        129.26716946, 130.4520428 , 143.62281307, 126.04798727,\n        127.39318163, 115.5751432 , 129.58524583, 142.59600083,\n        138.30506068, 125.97230671, 127.33798653, 125.45902688,\n        136.02606953, 125.63654984, 140.5108306 , 125.79951629,\n        135.18526157, 133.47160805, 133.55037272, 132.41621453],\n       [123.20076047, 139.09689495, 122.52537828, 116.19350907,\n        133.53468626, 132.17888359, 131.66346349, 139.77000394,\n        145.17816621, 130.92177274, 130.09053619, 131.1482428 ,\n        136.03913715, 121.90778345, 135.33190346, 134.04263535,\n        130.4151929 , 113.84254627, 130.0615827 , 118.51270012,\n        137.64765146, 123.1284432 , 125.9496411 , 123.84581993,\n        130.41084588, 140.06066886, 125.31413976, 125.36722117],\n       [145.62746386, 115.17693291, 128.9278499 , 128.30443246,\n        135.68794639, 130.12317202, 125.82061325, 128.40526454,\n        129.70222965, 123.73001923, 130.96899167, 128.12825216,\n        126.8855117 , 126.02828613, 136.21764383, 125.40086731,\n        130.25521751, 137.90574703, 130.37153666, 131.80200957,\n        140.0260124 , 128.70161913, 129.07122155, 140.77057457,\n        139.89360798, 132.4612666 , 135.29936068, 127.54222966],\n       [132.06369441, 128.66665692, 122.52952589, 122.37348542,\n        123.90663822, 121.2960245 , 121.92467963, 119.92492089,\n        128.72524189, 123.29243325, 126.51880729, 133.68098251,\n        132.54550825, 125.41890675, 118.11946165, 133.12285001,\n        124.45449475, 117.65014381, 127.00296081, 126.12138133,\n        125.34516706, 126.93915145, 115.5528498 , 125.24704687,\n        135.13166171, 129.72389825, 122.25957242, 129.57599347],\n       [127.41203198, 132.30073288, 130.22344577, 120.24771649,\n        142.15503827, 122.96398787, 130.204848  , 123.45881616,\n        138.03538638, 114.1923545 , 117.69188577, 131.87237268,\n        117.58657374, 123.29261937, 145.88072055, 133.15371779,\n        129.35328551, 132.67651684, 135.56513996, 114.41153965,\n        122.21824257, 126.15772608, 117.66097811, 113.81528106,\n        122.7350585 , 124.00513063, 113.86151626, 128.03118217],\n       [120.38785779, 123.25078435, 132.69704218, 122.28997492,\n        127.88220061, 129.21819578, 127.41883831, 109.30161966,\n        109.68697502, 123.31499252, 133.74376826, 129.84891142,\n        123.75483841, 128.6660853 , 110.74008868, 124.2692482 ,\n        117.75582806, 132.11023536, 122.75720566, 139.53918687,\n        133.81495557, 140.4387792 , 118.09084049, 121.40444724,\n        110.35890752, 129.50847519, 139.07654243, 122.41349921],\n       [119.52293522, 114.05476556, 118.28608384, 128.11352283,\n        112.81081539, 133.62263682, 126.13634994, 117.35618207,\n        121.86278455, 125.48675737, 124.42802716, 123.63588713,\n        128.64396472, 127.87449031, 119.22456   , 127.22294357,\n        126.69813818, 129.68149161, 138.48829989, 132.95734449,\n        119.39980974, 127.92306518, 128.67924598, 126.91809436,\n        134.89769406, 142.52099824, 117.12152315, 129.41350559],\n       [121.80972973, 131.62860763, 132.08750327, 132.77740209,\n        133.26537088, 122.89981958, 144.87634794, 121.7031681 ,\n        135.92025234, 146.44375838, 130.79005959, 133.46921519,\n        134.76380075, 129.07986241, 134.21707418, 135.85186997,\n        132.27037026, 136.6179678 , 128.75310531, 125.07231558,\n        141.11074493, 124.65270257, 137.27463258, 132.83576107,\n        144.06808275, 143.0875456 , 133.27016987, 132.65698852],\n       [136.48456636, 144.19144752, 130.21694519, 120.03831544,\n        125.12221981, 122.92334928, 111.36732804, 125.50274959,\n        125.83019795, 123.48679922, 133.86306517, 128.29048745,\n        134.29032201, 120.90563087, 131.35929225, 121.09639426,\n        119.04635907, 113.19145152, 130.80446987, 121.70077525,\n        138.39224022, 128.51081585, 128.66374562, 133.65482067,\n        124.32056156, 117.49244164, 109.67398051, 124.13486303],\n       [126.32659489, 138.47351739, 120.91561437, 110.45930091,\n        125.25952958, 109.5762392 , 119.79529484, 124.52524337,\n        110.73581478, 150.47919522, 117.28891637, 130.58937915,\n        125.06596123, 125.91333623, 123.84992765, 127.53644693,\n        137.12728614, 130.83055195, 123.37077254, 121.7591874 ,\n        126.78281852, 140.83750793, 127.9005325 , 130.03055539,\n        127.17722683, 123.59635192, 133.80685976, 122.799825  ],\n       [124.76589772, 122.93579211, 110.8346927 , 104.94708286,\n        119.76499868, 137.9582834 , 127.67670788, 127.95829327,\n        130.98072993, 125.78329807, 124.43330472, 143.77053173,\n        129.33192267, 131.36995373, 133.32511239, 114.48999857,\n        129.45531402, 120.87541448, 126.76936538, 128.80776866,\n        123.49553313, 145.38735456, 129.10635658, 132.19143277,\n        131.08840823, 145.19361339, 129.93676893, 111.34769337],\n       [115.864399  , 137.31884715, 117.07837207, 124.33874723,\n        134.07359618, 130.0322171 , 131.33148201, 136.80585978,\n        117.2478258 , 140.83141946, 136.72596514, 118.22206178,\n        126.1387295 , 123.32186532, 123.74997295, 124.9587748 ,\n        138.3156424 , 123.29709931, 128.3239209 , 119.1002248 ,\n        133.23229636, 134.77705449, 136.46404102, 142.77343073,\n        130.98721722, 125.90276781, 117.4602445 , 134.13740554],\n       [136.35455479, 107.45930387, 134.06483568, 132.33124173,\n        139.01899436, 125.32242168, 128.74656485, 130.90011744,\n        126.92423601, 140.84435415, 142.60809802, 139.78430787,\n        129.73574286, 132.37348885, 125.85039096, 128.94307109,\n        135.04146452, 112.1714722 , 141.0770722 , 135.15186801,\n        130.0455373 , 128.79827702, 126.47114968, 128.78176635,\n        123.15161397, 129.88585438, 111.54069009, 135.1241774 ],\n       [123.99054753, 118.90729454, 118.18842893, 124.12941265,\n        133.33542824, 109.73364226, 113.03873445, 139.33022451,\n        129.19043871, 136.16743384, 121.36854118, 136.07294282,\n        130.45002217, 117.41910075, 137.58245957, 131.93659414,\n        133.94369096, 128.90361564, 131.2873472 , 129.75822237,\n        130.11066273, 120.7487529 , 122.53036339, 115.98506516,\n        125.95225994, 130.70386378, 122.12391106, 128.77534553],\n       [125.65372519, 129.56327148, 131.00259793, 122.61286358,\n        112.70327004, 128.46278602, 133.55227371, 114.41352039,\n        137.70057335, 140.60298195, 138.39133625, 128.19204822,\n        141.17214814, 125.11928193, 136.82311489, 124.9416925 ,\n        125.00111497, 128.1000564 , 136.27961867, 130.32574015,\n        127.69308562, 126.42347877, 126.49697917, 137.72791832,\n        128.82774897, 137.57049531, 123.36451124, 120.30493221],\n       [133.19839764, 134.48771892, 113.83990084, 136.29575712,\n        136.31729278, 127.59936562, 125.09010244, 125.95559664,\n        135.94870068, 119.28630884, 131.77685804, 131.83037814,\n        125.35156129, 142.75095122, 126.25148596, 122.34530295,\n        140.5012459 , 113.73716777, 127.91301521, 130.73354843,\n        121.95173214, 127.68803404, 134.01850743, 126.68322274,\n        127.62090128, 128.60101304, 131.31711161, 123.58082497],\n       [131.41650798, 131.76130451, 123.92431873, 121.03828787,\n        116.53129986, 140.46103271, 145.54842001, 127.38606954,\n        122.45226339, 131.04718472, 113.50983363, 130.00661359,\n        124.55141851, 129.72351273, 126.11404325, 123.58304501,\n        133.54936241, 144.45786489, 126.91268386, 120.45024474,\n        138.36526747, 115.95216346, 126.87205856, 129.48546394,\n        126.05176266, 122.25853552, 123.2513161 , 126.31800721]])"
     },
     "execution_count": 29,
     "metadata": {},
     "output_type": "execute_result"
    }
   ],
   "source": [
    "Mei.mei"
   ],
   "metadata": {
    "collapsed": false
   }
  },
  {
   "cell_type": "code",
   "execution_count": 63,
   "outputs": [
    {
     "ename": "TypeError",
     "evalue": "Image data of dtype object cannot be converted to float",
     "output_type": "error",
     "traceback": [
      "\u001B[0;31m---------------------------------------------------------------------------\u001B[0m",
      "\u001B[0;31mTypeError\u001B[0m                                 Traceback (most recent call last)",
      "Cell \u001B[0;32mIn[63], line 3\u001B[0m\n\u001B[1;32m      1\u001B[0m \u001B[38;5;28;01mimport\u001B[39;00m \u001B[38;5;21;01mmatplotlib\u001B[39;00m\u001B[38;5;21;01m.\u001B[39;00m\u001B[38;5;21;01mpyplot\u001B[39;00m \u001B[38;5;28;01mas\u001B[39;00m \u001B[38;5;21;01mplt\u001B[39;00m\n\u001B[0;32m----> 3\u001B[0m \u001B[43mplt\u001B[49m\u001B[38;5;241;43m.\u001B[39;49m\u001B[43mimshow\u001B[49m\u001B[43m(\u001B[49m\u001B[43mMei\u001B[49m\u001B[38;5;241;43m.\u001B[39;49m\u001B[43mmei\u001B[49m\u001B[43m,\u001B[49m\u001B[43m \u001B[49m\u001B[43mcmap\u001B[49m\u001B[38;5;241;43m=\u001B[39;49m\u001B[38;5;124;43m'\u001B[39;49m\u001B[38;5;124;43mgray\u001B[39;49m\u001B[38;5;124;43m'\u001B[39;49m\u001B[43m)\u001B[49m\n\u001B[1;32m      4\u001B[0m plt\u001B[38;5;241m.\u001B[39maxis(\u001B[38;5;124m'\u001B[39m\u001B[38;5;124moff\u001B[39m\u001B[38;5;124m'\u001B[39m)\n\u001B[1;32m      5\u001B[0m plt\u001B[38;5;241m.\u001B[39mshow()\n",
      "File \u001B[0;32m~/miniconda/lib/python3.10/site-packages/matplotlib/pyplot.py:2695\u001B[0m, in \u001B[0;36mimshow\u001B[0;34m(X, cmap, norm, aspect, interpolation, alpha, vmin, vmax, origin, extent, interpolation_stage, filternorm, filterrad, resample, url, data, **kwargs)\u001B[0m\n\u001B[1;32m   2689\u001B[0m \u001B[38;5;129m@_copy_docstring_and_deprecators\u001B[39m(Axes\u001B[38;5;241m.\u001B[39mimshow)\n\u001B[1;32m   2690\u001B[0m \u001B[38;5;28;01mdef\u001B[39;00m \u001B[38;5;21mimshow\u001B[39m(\n\u001B[1;32m   2691\u001B[0m         X, cmap\u001B[38;5;241m=\u001B[39m\u001B[38;5;28;01mNone\u001B[39;00m, norm\u001B[38;5;241m=\u001B[39m\u001B[38;5;28;01mNone\u001B[39;00m, \u001B[38;5;241m*\u001B[39m, aspect\u001B[38;5;241m=\u001B[39m\u001B[38;5;28;01mNone\u001B[39;00m, interpolation\u001B[38;5;241m=\u001B[39m\u001B[38;5;28;01mNone\u001B[39;00m,\n\u001B[1;32m   2692\u001B[0m         alpha\u001B[38;5;241m=\u001B[39m\u001B[38;5;28;01mNone\u001B[39;00m, vmin\u001B[38;5;241m=\u001B[39m\u001B[38;5;28;01mNone\u001B[39;00m, vmax\u001B[38;5;241m=\u001B[39m\u001B[38;5;28;01mNone\u001B[39;00m, origin\u001B[38;5;241m=\u001B[39m\u001B[38;5;28;01mNone\u001B[39;00m, extent\u001B[38;5;241m=\u001B[39m\u001B[38;5;28;01mNone\u001B[39;00m,\n\u001B[1;32m   2693\u001B[0m         interpolation_stage\u001B[38;5;241m=\u001B[39m\u001B[38;5;28;01mNone\u001B[39;00m, filternorm\u001B[38;5;241m=\u001B[39m\u001B[38;5;28;01mTrue\u001B[39;00m, filterrad\u001B[38;5;241m=\u001B[39m\u001B[38;5;241m4.0\u001B[39m,\n\u001B[1;32m   2694\u001B[0m         resample\u001B[38;5;241m=\u001B[39m\u001B[38;5;28;01mNone\u001B[39;00m, url\u001B[38;5;241m=\u001B[39m\u001B[38;5;28;01mNone\u001B[39;00m, data\u001B[38;5;241m=\u001B[39m\u001B[38;5;28;01mNone\u001B[39;00m, \u001B[38;5;241m*\u001B[39m\u001B[38;5;241m*\u001B[39mkwargs):\n\u001B[0;32m-> 2695\u001B[0m     __ret \u001B[38;5;241m=\u001B[39m \u001B[43mgca\u001B[49m\u001B[43m(\u001B[49m\u001B[43m)\u001B[49m\u001B[38;5;241;43m.\u001B[39;49m\u001B[43mimshow\u001B[49m\u001B[43m(\u001B[49m\n\u001B[1;32m   2696\u001B[0m \u001B[43m        \u001B[49m\u001B[43mX\u001B[49m\u001B[43m,\u001B[49m\u001B[43m \u001B[49m\u001B[43mcmap\u001B[49m\u001B[38;5;241;43m=\u001B[39;49m\u001B[43mcmap\u001B[49m\u001B[43m,\u001B[49m\u001B[43m \u001B[49m\u001B[43mnorm\u001B[49m\u001B[38;5;241;43m=\u001B[39;49m\u001B[43mnorm\u001B[49m\u001B[43m,\u001B[49m\u001B[43m \u001B[49m\u001B[43maspect\u001B[49m\u001B[38;5;241;43m=\u001B[39;49m\u001B[43maspect\u001B[49m\u001B[43m,\u001B[49m\n\u001B[1;32m   2697\u001B[0m \u001B[43m        \u001B[49m\u001B[43minterpolation\u001B[49m\u001B[38;5;241;43m=\u001B[39;49m\u001B[43minterpolation\u001B[49m\u001B[43m,\u001B[49m\u001B[43m \u001B[49m\u001B[43malpha\u001B[49m\u001B[38;5;241;43m=\u001B[39;49m\u001B[43malpha\u001B[49m\u001B[43m,\u001B[49m\u001B[43m \u001B[49m\u001B[43mvmin\u001B[49m\u001B[38;5;241;43m=\u001B[39;49m\u001B[43mvmin\u001B[49m\u001B[43m,\u001B[49m\n\u001B[1;32m   2698\u001B[0m \u001B[43m        \u001B[49m\u001B[43mvmax\u001B[49m\u001B[38;5;241;43m=\u001B[39;49m\u001B[43mvmax\u001B[49m\u001B[43m,\u001B[49m\u001B[43m \u001B[49m\u001B[43morigin\u001B[49m\u001B[38;5;241;43m=\u001B[39;49m\u001B[43morigin\u001B[49m\u001B[43m,\u001B[49m\u001B[43m \u001B[49m\u001B[43mextent\u001B[49m\u001B[38;5;241;43m=\u001B[39;49m\u001B[43mextent\u001B[49m\u001B[43m,\u001B[49m\n\u001B[1;32m   2699\u001B[0m \u001B[43m        \u001B[49m\u001B[43minterpolation_stage\u001B[49m\u001B[38;5;241;43m=\u001B[39;49m\u001B[43minterpolation_stage\u001B[49m\u001B[43m,\u001B[49m\n\u001B[1;32m   2700\u001B[0m \u001B[43m        \u001B[49m\u001B[43mfilternorm\u001B[49m\u001B[38;5;241;43m=\u001B[39;49m\u001B[43mfilternorm\u001B[49m\u001B[43m,\u001B[49m\u001B[43m \u001B[49m\u001B[43mfilterrad\u001B[49m\u001B[38;5;241;43m=\u001B[39;49m\u001B[43mfilterrad\u001B[49m\u001B[43m,\u001B[49m\u001B[43m \u001B[49m\u001B[43mresample\u001B[49m\u001B[38;5;241;43m=\u001B[39;49m\u001B[43mresample\u001B[49m\u001B[43m,\u001B[49m\n\u001B[1;32m   2701\u001B[0m \u001B[43m        \u001B[49m\u001B[43murl\u001B[49m\u001B[38;5;241;43m=\u001B[39;49m\u001B[43murl\u001B[49m\u001B[43m,\u001B[49m\u001B[43m \u001B[49m\u001B[38;5;241;43m*\u001B[39;49m\u001B[38;5;241;43m*\u001B[39;49m\u001B[43m(\u001B[49m\u001B[43m{\u001B[49m\u001B[38;5;124;43m\"\u001B[39;49m\u001B[38;5;124;43mdata\u001B[39;49m\u001B[38;5;124;43m\"\u001B[39;49m\u001B[43m:\u001B[49m\u001B[43m \u001B[49m\u001B[43mdata\u001B[49m\u001B[43m}\u001B[49m\u001B[43m \u001B[49m\u001B[38;5;28;43;01mif\u001B[39;49;00m\u001B[43m \u001B[49m\u001B[43mdata\u001B[49m\u001B[43m \u001B[49m\u001B[38;5;129;43;01mis\u001B[39;49;00m\u001B[43m \u001B[49m\u001B[38;5;129;43;01mnot\u001B[39;49;00m\u001B[43m \u001B[49m\u001B[38;5;28;43;01mNone\u001B[39;49;00m\u001B[43m \u001B[49m\u001B[38;5;28;43;01melse\u001B[39;49;00m\u001B[43m \u001B[49m\u001B[43m{\u001B[49m\u001B[43m}\u001B[49m\u001B[43m)\u001B[49m\u001B[43m,\u001B[49m\n\u001B[1;32m   2702\u001B[0m \u001B[43m        \u001B[49m\u001B[38;5;241;43m*\u001B[39;49m\u001B[38;5;241;43m*\u001B[39;49m\u001B[43mkwargs\u001B[49m\u001B[43m)\u001B[49m\n\u001B[1;32m   2703\u001B[0m     sci(__ret)\n\u001B[1;32m   2704\u001B[0m     \u001B[38;5;28;01mreturn\u001B[39;00m __ret\n",
      "File \u001B[0;32m~/miniconda/lib/python3.10/site-packages/matplotlib/__init__.py:1442\u001B[0m, in \u001B[0;36m_preprocess_data.<locals>.inner\u001B[0;34m(ax, data, *args, **kwargs)\u001B[0m\n\u001B[1;32m   1439\u001B[0m \u001B[38;5;129m@functools\u001B[39m\u001B[38;5;241m.\u001B[39mwraps(func)\n\u001B[1;32m   1440\u001B[0m \u001B[38;5;28;01mdef\u001B[39;00m \u001B[38;5;21minner\u001B[39m(ax, \u001B[38;5;241m*\u001B[39margs, data\u001B[38;5;241m=\u001B[39m\u001B[38;5;28;01mNone\u001B[39;00m, \u001B[38;5;241m*\u001B[39m\u001B[38;5;241m*\u001B[39mkwargs):\n\u001B[1;32m   1441\u001B[0m     \u001B[38;5;28;01mif\u001B[39;00m data \u001B[38;5;129;01mis\u001B[39;00m \u001B[38;5;28;01mNone\u001B[39;00m:\n\u001B[0;32m-> 1442\u001B[0m         \u001B[38;5;28;01mreturn\u001B[39;00m \u001B[43mfunc\u001B[49m\u001B[43m(\u001B[49m\u001B[43max\u001B[49m\u001B[43m,\u001B[49m\u001B[43m \u001B[49m\u001B[38;5;241;43m*\u001B[39;49m\u001B[38;5;28;43mmap\u001B[39;49m\u001B[43m(\u001B[49m\u001B[43msanitize_sequence\u001B[49m\u001B[43m,\u001B[49m\u001B[43m \u001B[49m\u001B[43margs\u001B[49m\u001B[43m)\u001B[49m\u001B[43m,\u001B[49m\u001B[43m \u001B[49m\u001B[38;5;241;43m*\u001B[39;49m\u001B[38;5;241;43m*\u001B[39;49m\u001B[43mkwargs\u001B[49m\u001B[43m)\u001B[49m\n\u001B[1;32m   1444\u001B[0m     bound \u001B[38;5;241m=\u001B[39m new_sig\u001B[38;5;241m.\u001B[39mbind(ax, \u001B[38;5;241m*\u001B[39margs, \u001B[38;5;241m*\u001B[39m\u001B[38;5;241m*\u001B[39mkwargs)\n\u001B[1;32m   1445\u001B[0m     auto_label \u001B[38;5;241m=\u001B[39m (bound\u001B[38;5;241m.\u001B[39marguments\u001B[38;5;241m.\u001B[39mget(label_namer)\n\u001B[1;32m   1446\u001B[0m                   \u001B[38;5;129;01mor\u001B[39;00m bound\u001B[38;5;241m.\u001B[39mkwargs\u001B[38;5;241m.\u001B[39mget(label_namer))\n",
      "File \u001B[0;32m~/miniconda/lib/python3.10/site-packages/matplotlib/axes/_axes.py:5665\u001B[0m, in \u001B[0;36mAxes.imshow\u001B[0;34m(self, X, cmap, norm, aspect, interpolation, alpha, vmin, vmax, origin, extent, interpolation_stage, filternorm, filterrad, resample, url, **kwargs)\u001B[0m\n\u001B[1;32m   5657\u001B[0m \u001B[38;5;28mself\u001B[39m\u001B[38;5;241m.\u001B[39mset_aspect(aspect)\n\u001B[1;32m   5658\u001B[0m im \u001B[38;5;241m=\u001B[39m mimage\u001B[38;5;241m.\u001B[39mAxesImage(\u001B[38;5;28mself\u001B[39m, cmap\u001B[38;5;241m=\u001B[39mcmap, norm\u001B[38;5;241m=\u001B[39mnorm,\n\u001B[1;32m   5659\u001B[0m                       interpolation\u001B[38;5;241m=\u001B[39minterpolation, origin\u001B[38;5;241m=\u001B[39morigin,\n\u001B[1;32m   5660\u001B[0m                       extent\u001B[38;5;241m=\u001B[39mextent, filternorm\u001B[38;5;241m=\u001B[39mfilternorm,\n\u001B[1;32m   5661\u001B[0m                       filterrad\u001B[38;5;241m=\u001B[39mfilterrad, resample\u001B[38;5;241m=\u001B[39mresample,\n\u001B[1;32m   5662\u001B[0m                       interpolation_stage\u001B[38;5;241m=\u001B[39minterpolation_stage,\n\u001B[1;32m   5663\u001B[0m                       \u001B[38;5;241m*\u001B[39m\u001B[38;5;241m*\u001B[39mkwargs)\n\u001B[0;32m-> 5665\u001B[0m \u001B[43mim\u001B[49m\u001B[38;5;241;43m.\u001B[39;49m\u001B[43mset_data\u001B[49m\u001B[43m(\u001B[49m\u001B[43mX\u001B[49m\u001B[43m)\u001B[49m\n\u001B[1;32m   5666\u001B[0m im\u001B[38;5;241m.\u001B[39mset_alpha(alpha)\n\u001B[1;32m   5667\u001B[0m \u001B[38;5;28;01mif\u001B[39;00m im\u001B[38;5;241m.\u001B[39mget_clip_path() \u001B[38;5;129;01mis\u001B[39;00m \u001B[38;5;28;01mNone\u001B[39;00m:\n\u001B[1;32m   5668\u001B[0m     \u001B[38;5;66;03m# image does not already have clipping set, clip to axes patch\u001B[39;00m\n",
      "File \u001B[0;32m~/miniconda/lib/python3.10/site-packages/matplotlib/image.py:701\u001B[0m, in \u001B[0;36m_ImageBase.set_data\u001B[0;34m(self, A)\u001B[0m\n\u001B[1;32m    697\u001B[0m \u001B[38;5;28mself\u001B[39m\u001B[38;5;241m.\u001B[39m_A \u001B[38;5;241m=\u001B[39m cbook\u001B[38;5;241m.\u001B[39msafe_masked_invalid(A, copy\u001B[38;5;241m=\u001B[39m\u001B[38;5;28;01mTrue\u001B[39;00m)\n\u001B[1;32m    699\u001B[0m \u001B[38;5;28;01mif\u001B[39;00m (\u001B[38;5;28mself\u001B[39m\u001B[38;5;241m.\u001B[39m_A\u001B[38;5;241m.\u001B[39mdtype \u001B[38;5;241m!=\u001B[39m np\u001B[38;5;241m.\u001B[39muint8 \u001B[38;5;129;01mand\u001B[39;00m\n\u001B[1;32m    700\u001B[0m         \u001B[38;5;129;01mnot\u001B[39;00m np\u001B[38;5;241m.\u001B[39mcan_cast(\u001B[38;5;28mself\u001B[39m\u001B[38;5;241m.\u001B[39m_A\u001B[38;5;241m.\u001B[39mdtype, \u001B[38;5;28mfloat\u001B[39m, \u001B[38;5;124m\"\u001B[39m\u001B[38;5;124msame_kind\u001B[39m\u001B[38;5;124m\"\u001B[39m)):\n\u001B[0;32m--> 701\u001B[0m     \u001B[38;5;28;01mraise\u001B[39;00m \u001B[38;5;167;01mTypeError\u001B[39;00m(\u001B[38;5;124m\"\u001B[39m\u001B[38;5;124mImage data of dtype \u001B[39m\u001B[38;5;132;01m{}\u001B[39;00m\u001B[38;5;124m cannot be converted to \u001B[39m\u001B[38;5;124m\"\u001B[39m\n\u001B[1;32m    702\u001B[0m                     \u001B[38;5;124m\"\u001B[39m\u001B[38;5;124mfloat\u001B[39m\u001B[38;5;124m\"\u001B[39m\u001B[38;5;241m.\u001B[39mformat(\u001B[38;5;28mself\u001B[39m\u001B[38;5;241m.\u001B[39m_A\u001B[38;5;241m.\u001B[39mdtype))\n\u001B[1;32m    704\u001B[0m \u001B[38;5;28;01mif\u001B[39;00m \u001B[38;5;28mself\u001B[39m\u001B[38;5;241m.\u001B[39m_A\u001B[38;5;241m.\u001B[39mndim \u001B[38;5;241m==\u001B[39m \u001B[38;5;241m3\u001B[39m \u001B[38;5;129;01mand\u001B[39;00m \u001B[38;5;28mself\u001B[39m\u001B[38;5;241m.\u001B[39m_A\u001B[38;5;241m.\u001B[39mshape[\u001B[38;5;241m-\u001B[39m\u001B[38;5;241m1\u001B[39m] \u001B[38;5;241m==\u001B[39m \u001B[38;5;241m1\u001B[39m:\n\u001B[1;32m    705\u001B[0m     \u001B[38;5;66;03m# If just one dimension assume scalar and apply colormap\u001B[39;00m\n\u001B[1;32m    706\u001B[0m     \u001B[38;5;28mself\u001B[39m\u001B[38;5;241m.\u001B[39m_A \u001B[38;5;241m=\u001B[39m \u001B[38;5;28mself\u001B[39m\u001B[38;5;241m.\u001B[39m_A[:, :, \u001B[38;5;241m0\u001B[39m]\n",
      "\u001B[0;31mTypeError\u001B[0m: Image data of dtype object cannot be converted to float"
     ]
    },
    {
     "data": {
      "text/plain": "<Figure size 640x480 with 1 Axes>",
      "image/png": "[encoded data removed]"
     },
     "metadata": {},
     "output_type": "display_data"
    }
   ],
   "source": [
    "import matplotlib.pyplot as plt\n",
    "\n",
    "plt.imshow(Mei.mei, cmap='gray')\n",
    "plt.axis('off')\n",
    "plt.show()"
   ],
   "metadata": {
    "collapsed": false
   }
  },
  {
   "cell_type": "code",
   "execution_count": 29,
   "outputs": [
    {
     "data": {
      "text/plain": "<module 'mei' from '/Users/laszlofreund/code/ai/mei/torch/mei/mei.py'>"
     },
     "execution_count": 29,
     "metadata": {},
     "output_type": "execute_result"
    }
   ],
   "source": [
    "import importlib\n",
    "importlib.reload(mei)"
   ],
   "metadata": {
    "collapsed": false
   }
  },
  {
   "cell_type": "code",
   "execution_count": null,
   "outputs": [],
   "source": [],
   "metadata": {
    "collapsed": false
   }
  }
 ],
 "metadata": {
  "kernelspec": {
   "display_name": "Python 3",
   "language": "python",
   "name": "python3"
  },
  "language_info": {
   "codemirror_mode": {
    "name": "ipython",
    "version": 2
   },
   "file_extension": ".py",
   "mimetype": "text/x-python",
   "name": "python",
   "nbconvert_exporter": "python",
   "pygments_lexer": "ipython2",
   "version": "2.7.6"
  }
 },
 "nbformat": 4,
 "nbformat_minor": 0
}
