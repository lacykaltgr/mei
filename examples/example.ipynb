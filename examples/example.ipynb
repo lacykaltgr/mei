{
 "cells": [
  {
   "cell_type": "code",
   "execution_count": 1,
   "outputs": [],
   "source": [
    "import torch\n",
    "from example_models import MNIST_model, CIFAR_model, show_image, show_mei\n",
    "device = torch.device(\"cuda\" if torch.cuda.is_available() else \"cpu\")\n",
    "\n",
    "import sys\n",
    "sys.path.append('..')"
   ],
   "metadata": {
    "collapsed": false
   }
  },
  {
   "cell_type": "markdown",
   "source": [
    "# Build and train your models"
   ],
   "metadata": {
    "collapsed": false
   }
  },
  {
   "cell_type": "code",
   "execution_count": 2,
   "outputs": [
    {
     "name": "stdout",
     "output_type": "stream",
     "text": [
      "Epoch [1/10], Step [100/469], Loss: 1.8706 on model1\n",
      "Epoch [1/10], Step [200/469], Loss: 1.6224 on model1\n",
      "Epoch [1/10], Step [300/469], Loss: 1.5797 on model1\n",
      "Epoch [1/10], Step [400/469], Loss: 1.5648 on model1\n",
      "Epoch [2/10], Step [100/469], Loss: 1.5487 on model1\n",
      "Epoch [2/10], Step [200/469], Loss: 1.5434 on model1\n",
      "Epoch [2/10], Step [300/469], Loss: 1.5433 on model1\n",
      "Epoch [2/10], Step [400/469], Loss: 1.5398 on model1\n",
      "Epoch [3/10], Step [100/469], Loss: 1.5303 on model1\n",
      "Epoch [3/10], Step [200/469], Loss: 1.5293 on model1\n",
      "Epoch [3/10], Step [300/469], Loss: 1.5239 on model1\n",
      "Epoch [3/10], Step [400/469], Loss: 1.5267 on model1\n",
      "Epoch [4/10], Step [100/469], Loss: 1.5179 on model1\n",
      "Epoch [4/10], Step [200/469], Loss: 1.5168 on model1\n",
      "Epoch [4/10], Step [300/469], Loss: 1.5144 on model1\n",
      "Epoch [4/10], Step [400/469], Loss: 1.5139 on model1\n",
      "Epoch [5/10], Step [100/469], Loss: 1.5089 on model1\n",
      "Epoch [5/10], Step [200/469], Loss: 1.5097 on model1\n",
      "Epoch [5/10], Step [300/469], Loss: 1.5106 on model1\n",
      "Epoch [5/10], Step [400/469], Loss: 1.5091 on model1\n",
      "Epoch [6/10], Step [100/469], Loss: 1.5050 on model1\n",
      "Epoch [6/10], Step [200/469], Loss: 1.5031 on model1\n",
      "Epoch [6/10], Step [300/469], Loss: 1.5038 on model1\n",
      "Epoch [6/10], Step [400/469], Loss: 1.5019 on model1\n",
      "Epoch [7/10], Step [100/469], Loss: 1.5004 on model1\n",
      "Epoch [7/10], Step [200/469], Loss: 1.4975 on model1\n",
      "Epoch [7/10], Step [300/469], Loss: 1.4990 on model1\n",
      "Epoch [7/10], Step [400/469], Loss: 1.4973 on model1\n",
      "Epoch [8/10], Step [100/469], Loss: 1.4968 on model1\n",
      "Epoch [8/10], Step [200/469], Loss: 1.4937 on model1\n",
      "Epoch [8/10], Step [300/469], Loss: 1.4954 on model1\n",
      "Epoch [8/10], Step [400/469], Loss: 1.4955 on model1\n",
      "Epoch [9/10], Step [100/469], Loss: 1.4923 on model1\n",
      "Epoch [9/10], Step [200/469], Loss: 1.4917 on model1\n",
      "Epoch [9/10], Step [300/469], Loss: 1.4909 on model1\n",
      "Epoch [9/10], Step [400/469], Loss: 1.4913 on model1\n",
      "Epoch [10/10], Step [100/469], Loss: 1.4894 on model1\n",
      "Epoch [10/10], Step [200/469], Loss: 1.4897 on model1\n",
      "Epoch [10/10], Step [300/469], Loss: 1.4895 on model1\n",
      "Epoch [10/10], Step [400/469], Loss: 1.4869 on model1\n",
      "Epoch [1/10], Step [100/469], Loss: 1.8516 on model2\n",
      "Epoch [1/10], Step [200/469], Loss: 1.5992 on model2\n",
      "Epoch [1/10], Step [300/469], Loss: 1.5724 on model2\n",
      "Epoch [1/10], Step [400/469], Loss: 1.5626 on model2\n",
      "Epoch [2/10], Step [100/469], Loss: 1.5486 on model2\n",
      "Epoch [2/10], Step [200/469], Loss: 1.5453 on model2\n",
      "Epoch [2/10], Step [300/469], Loss: 1.5404 on model2\n",
      "Epoch [2/10], Step [400/469], Loss: 1.5415 on model2\n",
      "Epoch [3/10], Step [100/469], Loss: 1.5315 on model2\n",
      "Epoch [3/10], Step [200/469], Loss: 1.5265 on model2\n",
      "Epoch [3/10], Step [300/469], Loss: 1.5241 on model2\n",
      "Epoch [3/10], Step [400/469], Loss: 1.5251 on model2\n",
      "Epoch [4/10], Step [100/469], Loss: 1.5164 on model2\n",
      "Epoch [4/10], Step [200/469], Loss: 1.5140 on model2\n",
      "Epoch [4/10], Step [300/469], Loss: 1.5151 on model2\n",
      "Epoch [4/10], Step [400/469], Loss: 1.5152 on model2\n",
      "Epoch [5/10], Step [100/469], Loss: 1.5103 on model2\n",
      "Epoch [5/10], Step [200/469], Loss: 1.5095 on model2\n",
      "Epoch [5/10], Step [300/469], Loss: 1.5058 on model2\n",
      "Epoch [5/10], Step [400/469], Loss: 1.5049 on model2\n",
      "Epoch [6/10], Step [100/469], Loss: 1.5033 on model2\n",
      "Epoch [6/10], Step [200/469], Loss: 1.5035 on model2\n",
      "Epoch [6/10], Step [300/469], Loss: 1.5005 on model2\n",
      "Epoch [6/10], Step [400/469], Loss: 1.5031 on model2\n",
      "Epoch [7/10], Step [100/469], Loss: 1.4983 on model2\n",
      "Epoch [7/10], Step [200/469], Loss: 1.4979 on model2\n",
      "Epoch [7/10], Step [300/469], Loss: 1.4970 on model2\n",
      "Epoch [7/10], Step [400/469], Loss: 1.4969 on model2\n",
      "Epoch [8/10], Step [100/469], Loss: 1.4957 on model2\n",
      "Epoch [8/10], Step [200/469], Loss: 1.4951 on model2\n",
      "Epoch [8/10], Step [300/469], Loss: 1.4917 on model2\n",
      "Epoch [8/10], Step [400/469], Loss: 1.4932 on model2\n",
      "Epoch [9/10], Step [100/469], Loss: 1.4906 on model2\n",
      "Epoch [9/10], Step [200/469], Loss: 1.4900 on model2\n",
      "Epoch [9/10], Step [300/469], Loss: 1.4897 on model2\n",
      "Epoch [9/10], Step [400/469], Loss: 1.4917 on model2\n",
      "Epoch [10/10], Step [100/469], Loss: 1.4879 on model2\n",
      "Epoch [10/10], Step [200/469], Loss: 1.4869 on model2\n",
      "Epoch [10/10], Step [300/469], Loss: 1.4894 on model2\n",
      "Epoch [10/10], Step [400/469], Loss: 1.4874 on model2\n",
      "Test Accuracy: 96.88%\n",
      "Test Accuracy: 97.07%\n"
     ]
    }
   ],
   "source": [
    "model = MNIST_model #CIFAR_model\n",
    "load = False\n",
    "\n",
    "model1 = model(name=\"model1\", device=device, load=load)\n",
    "model2 = model(name=\"model2\", device=device, load=load)\n",
    "\n",
    "if not load:\n",
    "    model1.train(epochs=10)\n",
    "    model2.train(epochs=10)\n",
    "model1.eval()\n",
    "model2.eval()\n",
    "model1.save()\n",
    "model2.save()"
   ],
   "metadata": {
    "collapsed": false
   }
  },
  {
   "cell_type": "markdown",
   "source": [
    "# Import and instantiate MEI"
   ],
   "metadata": {
    "collapsed": false
   }
  },
  {
   "cell_type": "code",
   "execution_count": 6,
   "outputs": [],
   "source": [
    "import src.mei as mei\n",
    "Mei = mei.MEI(models=[model1, model2])"
   ],
   "metadata": {
    "collapsed": false
   }
  },
  {
   "cell_type": "markdown",
   "source": [
    "# Generate *most exciting input*"
   ],
   "metadata": {
    "collapsed": false
   }
  },
  {
   "cell_type": "code",
   "execution_count": 4,
   "outputs": [
    {
     "data": {
      "text/plain": "<Figure size 640x480 with 1 Axes>",
      "image/png": "[encoded data removed]"
     },
     "metadata": {},
     "output_type": "display_data"
    },
    {
     "name": "stdout",
     "output_type": "stream",
     "text": [
      "Activation:  0.40831816\n"
     ]
    }
   ],
   "source": [
    "meip = Mei.generate(0)\n",
    "show_mei(meip)"
   ],
   "metadata": {
    "collapsed": false
   }
  },
  {
   "cell_type": "markdown",
   "source": [
    "# Generate gradient receptive field"
   ],
   "metadata": {
    "collapsed": false
   }
  },
  {
   "cell_type": "code",
   "execution_count": 5,
   "outputs": [
    {
     "data": {
      "text/plain": "<Figure size 640x480 with 1 Axes>",
      "image/png": "[encoded data removed]"
     },
     "metadata": {},
     "output_type": "display_data"
    },
    {
     "name": "stdout",
     "output_type": "stream",
     "text": [
      "Activation:  0.19899\n"
     ]
    }
   ],
   "source": [
    "gradrf = Mei.gradient_rf(9)\n",
    "show_mei(gradrf)"
   ],
   "metadata": {
    "collapsed": false
   }
  },
  {
   "cell_type": "markdown",
   "source": [
    "# Find most excitatory samples from dataset"
   ],
   "metadata": {
    "collapsed": false
   }
  },
  {
   "cell_type": "code",
   "execution_count": 6,
   "outputs": [
    {
     "name": "stderr",
     "output_type": "stream",
     "text": [
      "100%|██████████| 60000/60000 [00:09<00:00, 6244.94it/s]\n"
     ]
    },
    {
     "data": {
      "text/plain": "<Figure size 640x480 with 1 Axes>",
      "image/png": "[encoded data removed]"
     },
     "metadata": {},
     "output_type": "display_data"
    }
   ],
   "source": [
    "meip_best_match = meip.best_match(model1.train_loader)\n",
    "show_image(meip_best_match[1][0][0])"
   ],
   "metadata": {
    "collapsed": false
   }
  },
  {
   "cell_type": "markdown",
   "source": [
    "# Compare original and *masked/jittered/shifted* responses"
   ],
   "metadata": {
    "collapsed": false
   }
  },
  {
   "cell_type": "code",
   "execution_count": 7,
   "outputs": [
    {
     "name": "stderr",
     "output_type": "stream",
     "text": [
      "100%|██████████| 1/1 [00:00<00:00, 421.58it/s]"
     ]
    },
    {
     "name": "stdout",
     "output_type": "stream",
     "text": [
      "original response:  [0.38744405]\n",
      "masked response:  [0.24579012]\n"
     ]
    },
    {
     "name": "stderr",
     "output_type": "stream",
     "text": [
      "\n"
     ]
    },
    {
     "data": {
      "text/plain": "<Figure size 640x480 with 1 Axes>",
      "image/png": "[encoded data removed]"
     },
     "metadata": {},
     "output_type": "display_data"
    }
   ],
   "source": [
    "orig_resps, masked_resps, masked_images = meip.masked_responses()\n",
    "print(\"original response: \", orig_resps)\n",
    "print(\"masked response: \", masked_resps)\n",
    "for i in masked_images:\n",
    "    show_image(i)"
   ],
   "metadata": {
    "collapsed": false
   }
  },
  {
   "cell_type": "markdown",
   "source": [
    "# Create Gabor stimuli and find most excitatory ones"
   ],
   "metadata": {
    "collapsed": false
   }
  },
  {
   "cell_type": "code",
   "execution_count": 12,
   "outputs": [
    {
     "name": "stdout",
     "output_type": "stream",
     "text": [
      "Creating gabors\n"
     ]
    },
    {
     "name": "stderr",
     "output_type": "stream",
     "text": [
      "72800it [01:29, 813.52it/s]\n",
      "0it [00:00, ?it/s]"
     ]
    },
    {
     "name": "stdout",
     "output_type": "stream",
     "text": [
      "torch.Size([28, 28])\n"
     ]
    },
    {
     "name": "stderr",
     "output_type": "stream",
     "text": [
      "\n"
     ]
    },
    {
     "ename": "RuntimeError",
     "evalue": "mat1 and mat2 shapes cannot be multiplied (28x28 and 784x128)",
     "output_type": "error",
     "traceback": [
      "\u001B[0;31m---------------------------------------------------------------------------\u001B[0m",
      "\u001B[0;31mRuntimeError\u001B[0m                              Traceback (most recent call last)",
      "Cell \u001B[0;32mIn[12], line 3\u001B[0m\n\u001B[1;32m      1\u001B[0m gabor \u001B[38;5;241m=\u001B[39m mei\u001B[38;5;241m.\u001B[39mGabor(models\u001B[38;5;241m=\u001B[39m[model1, model2])\n\u001B[1;32m      2\u001B[0m gabor\u001B[38;5;241m.\u001B[39mset_ranges(height\u001B[38;5;241m=\u001B[39m[\u001B[38;5;241m28\u001B[39m], width\u001B[38;5;241m=\u001B[39m[\u001B[38;5;241m28\u001B[39m])\n\u001B[0;32m----> 3\u001B[0m best_gabor \u001B[38;5;241m=\u001B[39m \u001B[43mgabor\u001B[49m\u001B[38;5;241;43m.\u001B[39;49m\u001B[43mbest_gabor\u001B[49m\u001B[43m(\u001B[49m\u001B[43m)\u001B[49m \u001B[38;5;66;03m#configban a grid search\u001B[39;00m\n\u001B[1;32m      4\u001B[0m show_mei(best_gabor)\n",
      "File \u001B[0;32m~/code/ai/mei/torch/mei/src/gabor.py:61\u001B[0m, in \u001B[0;36mGabor.best_gabor\u001B[0;34m(self, neuron_query, gabor_loader)\u001B[0m\n\u001B[1;32m     59\u001B[0m         img \u001B[38;5;241m=\u001B[39m torch\u001B[38;5;241m.\u001B[39mTensor(norm)\u001B[38;5;241m.\u001B[39mto(\u001B[38;5;28mself\u001B[39m\u001B[38;5;241m.\u001B[39mdevice)\n\u001B[1;32m     60\u001B[0m         \u001B[38;5;28mprint\u001B[39m(img\u001B[38;5;241m.\u001B[39mshape)\n\u001B[0;32m---> 61\u001B[0m         img_activations \u001B[38;5;241m=\u001B[39m \u001B[43moperation\u001B[49m\u001B[43m(\u001B[49m\u001B[43mimg\u001B[49m\u001B[43m)\u001B[49m\u001B[38;5;241m.\u001B[39mcpu()\u001B[38;5;241m.\u001B[39mnumpy()\n\u001B[1;32m     62\u001B[0m         activations\u001B[38;5;241m.\u001B[39mappend(img_activations)\n\u001B[1;32m     63\u001B[0m activations \u001B[38;5;241m=\u001B[39m np\u001B[38;5;241m.\u001B[39mconcatenate(activations)  \u001B[38;5;66;03m# num_gabors x num_cells\u001B[39;00m\n",
      "File \u001B[0;32m~/code/ai/mei/torch/mei/src/neuron_query.py:34\u001B[0m, in \u001B[0;36madj_model.<locals>.adj_model_fn\u001B[0;34m(x)\u001B[0m\n\u001B[1;32m     32\u001B[0m sums \u001B[38;5;241m=\u001B[39m \u001B[38;5;28;01mNone\u001B[39;00m\n\u001B[1;32m     33\u001B[0m \u001B[38;5;28;01mfor\u001B[39;00m model \u001B[38;5;129;01min\u001B[39;00m models:\n\u001B[0;32m---> 34\u001B[0m     y \u001B[38;5;241m=\u001B[39m query_fn(\u001B[43mmodel\u001B[49m\u001B[43m(\u001B[49m\u001B[43mx\u001B[49m\u001B[43m)\u001B[49m)\n\u001B[1;32m     35\u001B[0m     sums \u001B[38;5;241m=\u001B[39m y \u001B[38;5;28;01mif\u001B[39;00m count \u001B[38;5;241m==\u001B[39m \u001B[38;5;241m0\u001B[39m \u001B[38;5;28;01melse\u001B[39;00m sums\u001B[38;5;241m+\u001B[39my\n\u001B[1;32m     36\u001B[0m     count \u001B[38;5;241m+\u001B[39m\u001B[38;5;241m=\u001B[39m \u001B[38;5;241m1\u001B[39m\n",
      "File \u001B[0;32m~/miniconda/envs/tensyflow/lib/python3.8/site-packages/torch/nn/modules/module.py:1501\u001B[0m, in \u001B[0;36mModule._call_impl\u001B[0;34m(self, *args, **kwargs)\u001B[0m\n\u001B[1;32m   1496\u001B[0m \u001B[38;5;66;03m# If we don't have any hooks, we want to skip the rest of the logic in\u001B[39;00m\n\u001B[1;32m   1497\u001B[0m \u001B[38;5;66;03m# this function, and just call forward.\u001B[39;00m\n\u001B[1;32m   1498\u001B[0m \u001B[38;5;28;01mif\u001B[39;00m \u001B[38;5;129;01mnot\u001B[39;00m (\u001B[38;5;28mself\u001B[39m\u001B[38;5;241m.\u001B[39m_backward_hooks \u001B[38;5;129;01mor\u001B[39;00m \u001B[38;5;28mself\u001B[39m\u001B[38;5;241m.\u001B[39m_backward_pre_hooks \u001B[38;5;129;01mor\u001B[39;00m \u001B[38;5;28mself\u001B[39m\u001B[38;5;241m.\u001B[39m_forward_hooks \u001B[38;5;129;01mor\u001B[39;00m \u001B[38;5;28mself\u001B[39m\u001B[38;5;241m.\u001B[39m_forward_pre_hooks\n\u001B[1;32m   1499\u001B[0m         \u001B[38;5;129;01mor\u001B[39;00m _global_backward_pre_hooks \u001B[38;5;129;01mor\u001B[39;00m _global_backward_hooks\n\u001B[1;32m   1500\u001B[0m         \u001B[38;5;129;01mor\u001B[39;00m _global_forward_hooks \u001B[38;5;129;01mor\u001B[39;00m _global_forward_pre_hooks):\n\u001B[0;32m-> 1501\u001B[0m     \u001B[38;5;28;01mreturn\u001B[39;00m \u001B[43mforward_call\u001B[49m\u001B[43m(\u001B[49m\u001B[38;5;241;43m*\u001B[39;49m\u001B[43margs\u001B[49m\u001B[43m,\u001B[49m\u001B[43m \u001B[49m\u001B[38;5;241;43m*\u001B[39;49m\u001B[38;5;241;43m*\u001B[39;49m\u001B[43mkwargs\u001B[49m\u001B[43m)\u001B[49m\n\u001B[1;32m   1502\u001B[0m \u001B[38;5;66;03m# Do not call functions when jit is used\u001B[39;00m\n\u001B[1;32m   1503\u001B[0m full_backward_hooks, non_full_backward_hooks \u001B[38;5;241m=\u001B[39m [], []\n",
      "File \u001B[0;32m~/code/ai/mei/torch/mei/examples/example_models.py:111\u001B[0m, in \u001B[0;36mMNIST_model.forward\u001B[0;34m(self, x)\u001B[0m\n\u001B[1;32m    109\u001B[0m \u001B[38;5;28;01mdef\u001B[39;00m \u001B[38;5;21mforward\u001B[39m(\u001B[38;5;28mself\u001B[39m, x):\n\u001B[1;32m    110\u001B[0m     x \u001B[38;5;241m=\u001B[39m \u001B[38;5;28mself\u001B[39m\u001B[38;5;241m.\u001B[39mflatten(x)\n\u001B[0;32m--> 111\u001B[0m     x \u001B[38;5;241m=\u001B[39m \u001B[38;5;28;43mself\u001B[39;49m\u001B[38;5;241;43m.\u001B[39;49m\u001B[43mfc1\u001B[49m\u001B[43m(\u001B[49m\u001B[43mx\u001B[49m\u001B[43m)\u001B[49m\n\u001B[1;32m    112\u001B[0m     x \u001B[38;5;241m=\u001B[39m \u001B[38;5;28mself\u001B[39m\u001B[38;5;241m.\u001B[39mrelu(x)\n\u001B[1;32m    113\u001B[0m     x \u001B[38;5;241m=\u001B[39m \u001B[38;5;28mself\u001B[39m\u001B[38;5;241m.\u001B[39mfc2(x)\n",
      "File \u001B[0;32m~/miniconda/envs/tensyflow/lib/python3.8/site-packages/torch/nn/modules/module.py:1501\u001B[0m, in \u001B[0;36mModule._call_impl\u001B[0;34m(self, *args, **kwargs)\u001B[0m\n\u001B[1;32m   1496\u001B[0m \u001B[38;5;66;03m# If we don't have any hooks, we want to skip the rest of the logic in\u001B[39;00m\n\u001B[1;32m   1497\u001B[0m \u001B[38;5;66;03m# this function, and just call forward.\u001B[39;00m\n\u001B[1;32m   1498\u001B[0m \u001B[38;5;28;01mif\u001B[39;00m \u001B[38;5;129;01mnot\u001B[39;00m (\u001B[38;5;28mself\u001B[39m\u001B[38;5;241m.\u001B[39m_backward_hooks \u001B[38;5;129;01mor\u001B[39;00m \u001B[38;5;28mself\u001B[39m\u001B[38;5;241m.\u001B[39m_backward_pre_hooks \u001B[38;5;129;01mor\u001B[39;00m \u001B[38;5;28mself\u001B[39m\u001B[38;5;241m.\u001B[39m_forward_hooks \u001B[38;5;129;01mor\u001B[39;00m \u001B[38;5;28mself\u001B[39m\u001B[38;5;241m.\u001B[39m_forward_pre_hooks\n\u001B[1;32m   1499\u001B[0m         \u001B[38;5;129;01mor\u001B[39;00m _global_backward_pre_hooks \u001B[38;5;129;01mor\u001B[39;00m _global_backward_hooks\n\u001B[1;32m   1500\u001B[0m         \u001B[38;5;129;01mor\u001B[39;00m _global_forward_hooks \u001B[38;5;129;01mor\u001B[39;00m _global_forward_pre_hooks):\n\u001B[0;32m-> 1501\u001B[0m     \u001B[38;5;28;01mreturn\u001B[39;00m \u001B[43mforward_call\u001B[49m\u001B[43m(\u001B[49m\u001B[38;5;241;43m*\u001B[39;49m\u001B[43margs\u001B[49m\u001B[43m,\u001B[49m\u001B[43m \u001B[49m\u001B[38;5;241;43m*\u001B[39;49m\u001B[38;5;241;43m*\u001B[39;49m\u001B[43mkwargs\u001B[49m\u001B[43m)\u001B[49m\n\u001B[1;32m   1502\u001B[0m \u001B[38;5;66;03m# Do not call functions when jit is used\u001B[39;00m\n\u001B[1;32m   1503\u001B[0m full_backward_hooks, non_full_backward_hooks \u001B[38;5;241m=\u001B[39m [], []\n",
      "File \u001B[0;32m~/miniconda/envs/tensyflow/lib/python3.8/site-packages/torch/nn/modules/linear.py:114\u001B[0m, in \u001B[0;36mLinear.forward\u001B[0;34m(self, input)\u001B[0m\n\u001B[1;32m    113\u001B[0m \u001B[38;5;28;01mdef\u001B[39;00m \u001B[38;5;21mforward\u001B[39m(\u001B[38;5;28mself\u001B[39m, \u001B[38;5;28minput\u001B[39m: Tensor) \u001B[38;5;241m-\u001B[39m\u001B[38;5;241m>\u001B[39m Tensor:\n\u001B[0;32m--> 114\u001B[0m     \u001B[38;5;28;01mreturn\u001B[39;00m \u001B[43mF\u001B[49m\u001B[38;5;241;43m.\u001B[39;49m\u001B[43mlinear\u001B[49m\u001B[43m(\u001B[49m\u001B[38;5;28;43minput\u001B[39;49m\u001B[43m,\u001B[49m\u001B[43m \u001B[49m\u001B[38;5;28;43mself\u001B[39;49m\u001B[38;5;241;43m.\u001B[39;49m\u001B[43mweight\u001B[49m\u001B[43m,\u001B[49m\u001B[43m \u001B[49m\u001B[38;5;28;43mself\u001B[39;49m\u001B[38;5;241;43m.\u001B[39;49m\u001B[43mbias\u001B[49m\u001B[43m)\u001B[49m\n",
      "\u001B[0;31mRuntimeError\u001B[0m: mat1 and mat2 shapes cannot be multiplied (28x28 and 784x128)"
     ]
    }
   ],
   "source": [
    "gabor = mei.Gabor(models=[model1, model2])\n",
    "gabor.set_ranges(height=[28], width=[28])\n",
    "best_gabor = gabor.best_gabor() #configban a grid search\n",
    "show_mei(best_gabor)"
   ],
   "metadata": {
    "collapsed": false
   }
  },
  {
   "cell_type": "markdown",
   "source": [
    "# Find optimal Gabor stimuli"
   ],
   "metadata": {
    "collapsed": false
   }
  },
  {
   "cell_type": "code",
   "execution_count": 10,
   "outputs": [
    {
     "name": "stderr",
     "output_type": "stream",
     "text": [
      "  0%|          | 0/5 [00:00<?, ?it/s]\n"
     ]
    },
    {
     "ename": "TypeError",
     "evalue": "ufunc 'isinf' not supported for the input types, and the inputs could not be safely coerced to any supported types according to the casting rule ''safe''",
     "output_type": "error",
     "traceback": [
      "\u001B[0;31m---------------------------------------------------------------------------\u001B[0m",
      "\u001B[0;31mTypeError\u001B[0m                                 Traceback (most recent call last)",
      "Cell \u001B[0;32mIn[10], line 1\u001B[0m\n\u001B[0;32m----> 1\u001B[0m optimal_gabor \u001B[38;5;241m=\u001B[39m \u001B[43mgabor\u001B[49m\u001B[38;5;241;43m.\u001B[39;49m\u001B[43moptimal_gabor\u001B[49m\u001B[43m(\u001B[49m\u001B[43m)\u001B[49m\n\u001B[1;32m      2\u001B[0m show_mei(optimal_gabor)\n",
      "File \u001B[0;32m~/code/ai/mei/torch/mei/src/gabor.py:134\u001B[0m, in \u001B[0;36mGabor.optimal_gabor\u001B[0;34m(self, neuron_query, target_mean, target_contrast)\u001B[0m\n\u001B[1;32m    132\u001B[0m best_seed \u001B[38;5;241m=\u001B[39m \u001B[38;5;28;01mNone\u001B[39;00m\n\u001B[1;32m    133\u001B[0m \u001B[38;5;28;01mfor\u001B[39;00m seed \u001B[38;5;129;01min\u001B[39;00m tqdm([\u001B[38;5;241m1\u001B[39m, \u001B[38;5;241m12\u001B[39m, \u001B[38;5;241m123\u001B[39m, \u001B[38;5;241m1234\u001B[39m, \u001B[38;5;241m12345\u001B[39m]):  \u001B[38;5;66;03m# try 5 diff random seeds\u001B[39;00m\n\u001B[0;32m--> 134\u001B[0m     res \u001B[38;5;241m=\u001B[39m \u001B[43moptimize\u001B[49m\u001B[38;5;241;43m.\u001B[39;49m\u001B[43mdual_annealing\u001B[49m\u001B[43m(\u001B[49m\u001B[43mneg_model_activation\u001B[49m\u001B[43m,\u001B[49m\u001B[43m \u001B[49m\u001B[43mbounds\u001B[49m\u001B[38;5;241;43m=\u001B[39;49m\u001B[38;5;28;43mself\u001B[39;49m\u001B[38;5;241;43m.\u001B[39;49m\u001B[43mlimits\u001B[49m\u001B[43m,\u001B[49m\u001B[43m \u001B[49m\u001B[43mno_local_search\u001B[49m\u001B[38;5;241;43m=\u001B[39;49m\u001B[38;5;28;43;01mTrue\u001B[39;49;00m\u001B[43m,\u001B[49m\u001B[43m \u001B[49m\u001B[43mmaxiter\u001B[49m\u001B[38;5;241;43m=\u001B[39;49m\u001B[38;5;241;43m300\u001B[39;49m\u001B[43m,\u001B[49m\u001B[43m \u001B[49m\u001B[43mseed\u001B[49m\u001B[38;5;241;43m=\u001B[39;49m\u001B[43mseed\u001B[49m\u001B[43m)\u001B[49m\n\u001B[1;32m    135\u001B[0m     res \u001B[38;5;241m=\u001B[39m optimize\u001B[38;5;241m.\u001B[39mminimize(neg_model_activation, x0\u001B[38;5;241m=\u001B[39mres\u001B[38;5;241m.\u001B[39mx, method\u001B[38;5;241m=\u001B[39m\u001B[38;5;124m'\u001B[39m\u001B[38;5;124mNelder-Mead\u001B[39m\u001B[38;5;124m'\u001B[39m)\n\u001B[1;32m    137\u001B[0m     \u001B[38;5;28;01mif\u001B[39;00m res\u001B[38;5;241m.\u001B[39mfun \u001B[38;5;241m<\u001B[39m best_activation:\n",
      "File \u001B[0;32m~/miniconda/envs/tensyflow/lib/python3.8/site-packages/scipy/optimize/_dual_annealing.py:639\u001B[0m, in \u001B[0;36mdual_annealing\u001B[0;34m(func, bounds, args, maxiter, minimizer_kwargs, initial_temp, restart_temp_ratio, visit, accept, maxfun, seed, no_local_search, callback, x0, local_search_options)\u001B[0m\n\u001B[1;32m    637\u001B[0m     \u001B[38;5;28;01mraise\u001B[39;00m \u001B[38;5;167;01mValueError\u001B[39;00m(\u001B[38;5;124m'\u001B[39m\u001B[38;5;124mRestart temperature ratio has to be in range (0, 1)\u001B[39m\u001B[38;5;124m'\u001B[39m)\n\u001B[1;32m    638\u001B[0m \u001B[38;5;66;03m# Checking bounds are valid\u001B[39;00m\n\u001B[0;32m--> 639\u001B[0m \u001B[38;5;28;01mif\u001B[39;00m (np\u001B[38;5;241m.\u001B[39many(\u001B[43mnp\u001B[49m\u001B[38;5;241;43m.\u001B[39;49m\u001B[43misinf\u001B[49m\u001B[43m(\u001B[49m\u001B[43mlower\u001B[49m\u001B[43m)\u001B[49m) \u001B[38;5;129;01mor\u001B[39;00m np\u001B[38;5;241m.\u001B[39many(np\u001B[38;5;241m.\u001B[39misinf(upper)) \u001B[38;5;129;01mor\u001B[39;00m np\u001B[38;5;241m.\u001B[39many(\n\u001B[1;32m    640\u001B[0m         np\u001B[38;5;241m.\u001B[39misnan(lower)) \u001B[38;5;129;01mor\u001B[39;00m np\u001B[38;5;241m.\u001B[39many(np\u001B[38;5;241m.\u001B[39misnan(upper))):\n\u001B[1;32m    641\u001B[0m     \u001B[38;5;28;01mraise\u001B[39;00m \u001B[38;5;167;01mValueError\u001B[39;00m(\u001B[38;5;124m'\u001B[39m\u001B[38;5;124mSome bounds values are inf values or nan values\u001B[39m\u001B[38;5;124m'\u001B[39m)\n\u001B[1;32m    642\u001B[0m \u001B[38;5;66;03m# Checking that bounds are consistent\u001B[39;00m\n",
      "\u001B[0;31mTypeError\u001B[0m: ufunc 'isinf' not supported for the input types, and the inputs could not be safely coerced to any supported types according to the casting rule ''safe''"
     ]
    }
   ],
   "source": [
    "optimal_gabor = gabor.optimal_gabor()\n",
    "show_mei(optimal_gabor)"
   ],
   "metadata": {
    "collapsed": false
   }
  },
  {
   "cell_type": "markdown",
   "source": [
    "# Compute spatial frequency"
   ],
   "metadata": {
    "collapsed": false
   }
  },
  {
   "cell_type": "code",
   "execution_count": 13,
   "outputs": [
    {
     "ename": "NameError",
     "evalue": "name 'best_gabor' is not defined",
     "output_type": "error",
     "traceback": [
      "\u001B[0;31m---------------------------------------------------------------------------\u001B[0m",
      "\u001B[0;31mNameError\u001B[0m                                 Traceback (most recent call last)",
      "Cell \u001B[0;32mIn[13], line 1\u001B[0m\n\u001B[0;32m----> 1\u001B[0m freq_cols_best_gabor, freq_rows_best_gabor, magnitude_spectrum_best_gabor \u001B[38;5;241m=\u001B[39m \u001B[43mbest_gabor\u001B[49m\u001B[38;5;241m.\u001B[39mspatial_frequency()\n\u001B[1;32m      3\u001B[0m freq_cols_optimal_gabor, freq_rows_optimal_gabor, magnitude_spectrum_optimal_gabor \u001B[38;5;241m=\u001B[39m optimal_gabor\u001B[38;5;241m.\u001B[39mspatial_frequency()\n\u001B[1;32m      5\u001B[0m freq_cols_mei, freq_rows_mei, magnitude_spectrum_mei \u001B[38;5;241m=\u001B[39m meip\u001B[38;5;241m.\u001B[39mspatial_frequency()\n",
      "\u001B[0;31mNameError\u001B[0m: name 'best_gabor' is not defined"
     ]
    }
   ],
   "source": [
    "freq_cols_best_gabor, freq_rows_best_gabor, magnitude_spectrum_best_gabor = best_gabor.spatial_frequency()\n",
    "\n",
    "freq_cols_optimal_gabor, freq_rows_optimal_gabor, magnitude_spectrum_optimal_gabor = optimal_gabor.spatial_frequency()\n",
    "\n",
    "freq_cols_mei, freq_rows_mei, magnitude_spectrum_mei = meip.spatial_frequency()"
   ],
   "metadata": {
    "collapsed": false
   }
  },
  {
   "cell_type": "markdown",
   "source": [
    "# Dev tools"
   ],
   "metadata": {
    "collapsed": false
   }
  },
  {
   "cell_type": "code",
   "execution_count": 6,
   "outputs": [
    {
     "data": {
      "text/plain": "<module 'src.mei' from '/Users/laszlofreund/code/ai/mei/torch/mei/src/mei.py'>"
     },
     "execution_count": 6,
     "metadata": {},
     "output_type": "execute_result"
    }
   ],
   "source": [
    "import importlib\n",
    "importlib.reload(mei)"
   ],
   "metadata": {
    "collapsed": false
   }
  },
  {
   "cell_type": "code",
   "execution_count": null,
   "outputs": [],
   "source": [],
   "metadata": {
    "collapsed": false
   }
  }
 ],
 "metadata": {
  "kernelspec": {
   "display_name": "Python 3",
   "language": "python",
   "name": "python3"
  },
  "language_info": {
   "codemirror_mode": {
    "name": "ipython",
    "version": 2
   },
   "file_extension": ".py",
   "mimetype": "text/x-python",
   "name": "python",
   "nbconvert_exporter": "python",
   "pygments_lexer": "ipython2",
   "version": "2.7.6"
  }
 },
 "nbformat": 4,
 "nbformat_minor": 0
}
